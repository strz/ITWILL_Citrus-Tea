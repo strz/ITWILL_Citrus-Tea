{
  "nbformat": 4,
  "nbformat_minor": 0,
  "metadata": {
    "colab": {
      "name": "cnn_fin.ipynb",
      "provenance": [],
      "collapsed_sections": []
    },
    "kernelspec": {
      "name": "python3",
      "display_name": "Python 3"
    },
    "accelerator": "GPU"
  },
  "cells": [
    {
      "cell_type": "code",
      "metadata": {
        "id": "7zpzH7H1936I",
        "colab_type": "code",
        "colab": {}
      },
      "source": [
        "%tensorflow_version 1.x"
      ],
      "execution_count": 0,
      "outputs": []
    },
    {
      "cell_type": "code",
      "metadata": {
        "id": "Vpz7_b1a6yj2",
        "colab_type": "code",
        "outputId": "97276fb8-7206-42e0-ac91-ba80163879ae",
        "colab": {
          "base_uri": "https://localhost:8080/",
          "height": 35
        }
      },
      "source": [
        "# 1. 모듈 import\n",
        "import os, numpy as np\n",
        "from keras.models import Sequential\n",
        "from keras.layers import Dense, Flatten, Dropout\n",
        "from keras.layers.convolutional import Conv2D\n",
        "from keras.layers.convolutional import MaxPooling2D\n",
        "import matplotlib.pyplot as plt\n",
        "from keras.callbacks import ModelCheckpoint, EarlyStopping"
      ],
      "execution_count": 2,
      "outputs": [
        {
          "output_type": "stream",
          "text": [
            "Using TensorFlow backend.\n"
          ],
          "name": "stderr"
        }
      ]
    },
    {
      "cell_type": "code",
      "metadata": {
        "id": "trJWB94T9zNL",
        "colab_type": "code",
        "outputId": "0bcf9a6c-ccc7-4e58-b341-426e08dbca18",
        "colab": {
          "base_uri": "https://localhost:8080/",
          "height": 53
        }
      },
      "source": [
        "# 2. npy 데이터를 불러와서 모델 학습\n",
        "X_train, X_test, y_train, y_test = np.load(\"/content/drive/My Drive/fin.npy\", allow_pickle=True)\n",
        "print(f'X_train: {X_train.shape}, y_train: {y_train.shape}')  \n",
        "print(f'X_test: {X_test.shape}, y_test: {y_test.shape}') \n"
      ],
      "execution_count": 4,
      "outputs": [
        {
          "output_type": "stream",
          "text": [
            "X_train: (28810, 64, 64, 3), y_train: (28810, 5)\n",
            "X_test: (7203, 64, 64, 3), y_test: (7203, 5)\n"
          ],
          "name": "stdout"
        }
      ]
    },
    {
      "cell_type": "code",
      "metadata": {
        "id": "HxuooCn1jAu0",
        "colab_type": "code",
        "outputId": "7f436e3a-93b5-40fa-9a2e-26a39430f0d5",
        "colab": {
          "base_uri": "https://localhost:8080/",
          "height": 919
        }
      },
      "source": [
        "# 4. CNN 모델 구성\n",
        "model = Sequential()\n",
        "model.add(Conv2D(32, kernel_size=(4, 4), strides=(1, 1), padding='same', activation='relu', input_shape=(64, 64, 3)))\n",
        "model.add(MaxPooling2D(pool_size=(2, 2)))\n",
        "\n",
        "model.add(Conv2D(32, (3, 3), activation='relu', padding='same'))\n",
        "model.add(MaxPooling2D(pool_size=(2, 2)))\n",
        "\n",
        "model.add(Conv2D(32, (3, 3), padding='same', activation='relu'))\n",
        "model.add(MaxPooling2D(pool_size=(2,2)))\n",
        "model.add(Dropout(0.25))\n",
        "\n",
        "model.add(Conv2D(64, (3, 3), padding='same', activation='relu'))\n",
        "model.add(MaxPooling2D(pool_size=(2,2)))\n",
        "model.add(Dropout(0.25))\n",
        "model.add(Flatten())\n",
        "\n",
        "model.add(Dense(256, activation='relu'))\n",
        "model.add(Dropout(0.5))\n",
        "\n",
        "model.add(Dense(5, activation='softmax'))\n",
        "model.summary()"
      ],
      "execution_count": 5,
      "outputs": [
        {
          "output_type": "stream",
          "text": [
            "WARNING:tensorflow:From /usr/local/lib/python3.6/dist-packages/keras/backend/tensorflow_backend.py:66: The name tf.get_default_graph is deprecated. Please use tf.compat.v1.get_default_graph instead.\n",
            "\n",
            "WARNING:tensorflow:From /usr/local/lib/python3.6/dist-packages/keras/backend/tensorflow_backend.py:541: The name tf.placeholder is deprecated. Please use tf.compat.v1.placeholder instead.\n",
            "\n",
            "WARNING:tensorflow:From /usr/local/lib/python3.6/dist-packages/keras/backend/tensorflow_backend.py:4432: The name tf.random_uniform is deprecated. Please use tf.random.uniform instead.\n",
            "\n",
            "WARNING:tensorflow:From /usr/local/lib/python3.6/dist-packages/keras/backend/tensorflow_backend.py:4267: The name tf.nn.max_pool is deprecated. Please use tf.nn.max_pool2d instead.\n",
            "\n",
            "WARNING:tensorflow:From /usr/local/lib/python3.6/dist-packages/keras/backend/tensorflow_backend.py:148: The name tf.placeholder_with_default is deprecated. Please use tf.compat.v1.placeholder_with_default instead.\n",
            "\n",
            "WARNING:tensorflow:From /usr/local/lib/python3.6/dist-packages/keras/backend/tensorflow_backend.py:3733: calling dropout (from tensorflow.python.ops.nn_ops) with keep_prob is deprecated and will be removed in a future version.\n",
            "Instructions for updating:\n",
            "Please use `rate` instead of `keep_prob`. Rate should be set to `rate = 1 - keep_prob`.\n",
            "Model: \"sequential_1\"\n",
            "_________________________________________________________________\n",
            "Layer (type)                 Output Shape              Param #   \n",
            "=================================================================\n",
            "conv2d_1 (Conv2D)            (None, 64, 64, 32)        1568      \n",
            "_________________________________________________________________\n",
            "max_pooling2d_1 (MaxPooling2 (None, 32, 32, 32)        0         \n",
            "_________________________________________________________________\n",
            "conv2d_2 (Conv2D)            (None, 32, 32, 32)        9248      \n",
            "_________________________________________________________________\n",
            "max_pooling2d_2 (MaxPooling2 (None, 16, 16, 32)        0         \n",
            "_________________________________________________________________\n",
            "conv2d_3 (Conv2D)            (None, 16, 16, 32)        9248      \n",
            "_________________________________________________________________\n",
            "max_pooling2d_3 (MaxPooling2 (None, 8, 8, 32)          0         \n",
            "_________________________________________________________________\n",
            "dropout_1 (Dropout)          (None, 8, 8, 32)          0         \n",
            "_________________________________________________________________\n",
            "conv2d_4 (Conv2D)            (None, 8, 8, 64)          18496     \n",
            "_________________________________________________________________\n",
            "max_pooling2d_4 (MaxPooling2 (None, 4, 4, 64)          0         \n",
            "_________________________________________________________________\n",
            "dropout_2 (Dropout)          (None, 4, 4, 64)          0         \n",
            "_________________________________________________________________\n",
            "flatten_1 (Flatten)          (None, 1024)              0         \n",
            "_________________________________________________________________\n",
            "dense_1 (Dense)              (None, 256)               262400    \n",
            "_________________________________________________________________\n",
            "dropout_3 (Dropout)          (None, 256)               0         \n",
            "_________________________________________________________________\n",
            "dense_2 (Dense)              (None, 5)                 1285      \n",
            "=================================================================\n",
            "Total params: 302,245\n",
            "Trainable params: 302,245\n",
            "Non-trainable params: 0\n",
            "_________________________________________________________________\n"
          ],
          "name": "stdout"
        }
      ]
    },
    {
      "cell_type": "code",
      "metadata": {
        "id": "4XZtqI4OjDst",
        "colab_type": "code",
        "outputId": "dbb2ae1e-89fa-4e2e-f184-58500eaa0b9b",
        "colab": {
          "base_uri": "https://localhost:8080/",
          "height": 109
        }
      },
      "source": [
        "# 4. 모델 컴파일\n",
        "model.compile(loss='categorical_crossentropy', optimizer='adam', metrics=['accuracy'])"
      ],
      "execution_count": 6,
      "outputs": [
        {
          "output_type": "stream",
          "text": [
            "WARNING:tensorflow:From /usr/local/lib/python3.6/dist-packages/keras/optimizers.py:793: The name tf.train.Optimizer is deprecated. Please use tf.compat.v1.train.Optimizer instead.\n",
            "\n",
            "WARNING:tensorflow:From /usr/local/lib/python3.6/dist-packages/keras/backend/tensorflow_backend.py:3576: The name tf.log is deprecated. Please use tf.math.log instead.\n",
            "\n"
          ],
          "name": "stdout"
        }
      ]
    },
    {
      "cell_type": "code",
      "metadata": {
        "id": "B8WgJgNTjGNq",
        "colab_type": "code",
        "outputId": "38ee3928-470d-4789-e0cb-819da0e0ad6d",
        "colab": {
          "base_uri": "https://localhost:8080/",
          "height": 1000
        }
      },
      "source": [
        "# 5. 모델 학습\n",
        "model_dir = \"./model\"\n",
        "if not os.path.exists(model_dir):\n",
        "  os.mkdir(model_dir)\n",
        "model_path = model_dir + '/test.model'\n",
        "checkpoint = ModelCheckpoint(filepath=model_path, monitor='val_loss', verbose=1, save_best_only=True)\n",
        "early_stopping = EarlyStopping(monitor='val_loss', patience=5)\n",
        "hist = model.fit(X_train, y_train, epochs=150, batch_size=100, validation_split=0.2, callbacks=[checkpoint, early_stopping])\n"
      ],
      "execution_count": 7,
      "outputs": [
        {
          "output_type": "stream",
          "text": [
            "WARNING:tensorflow:From /usr/local/lib/python3.6/dist-packages/tensorflow_core/python/ops/math_grad.py:1424: where (from tensorflow.python.ops.array_ops) is deprecated and will be removed in a future version.\n",
            "Instructions for updating:\n",
            "Use tf.where in 2.0, which has the same broadcast rule as np.where\n",
            "WARNING:tensorflow:From /usr/local/lib/python3.6/dist-packages/keras/backend/tensorflow_backend.py:1033: The name tf.assign_add is deprecated. Please use tf.compat.v1.assign_add instead.\n",
            "\n",
            "WARNING:tensorflow:From /usr/local/lib/python3.6/dist-packages/keras/backend/tensorflow_backend.py:1020: The name tf.assign is deprecated. Please use tf.compat.v1.assign instead.\n",
            "\n",
            "WARNING:tensorflow:From /usr/local/lib/python3.6/dist-packages/keras/backend/tensorflow_backend.py:3005: The name tf.Session is deprecated. Please use tf.compat.v1.Session instead.\n",
            "\n",
            "Train on 23048 samples, validate on 5762 samples\n",
            "Epoch 1/150\n",
            "WARNING:tensorflow:From /usr/local/lib/python3.6/dist-packages/keras/backend/tensorflow_backend.py:190: The name tf.get_default_session is deprecated. Please use tf.compat.v1.get_default_session instead.\n",
            "\n",
            "WARNING:tensorflow:From /usr/local/lib/python3.6/dist-packages/keras/backend/tensorflow_backend.py:197: The name tf.ConfigProto is deprecated. Please use tf.compat.v1.ConfigProto instead.\n",
            "\n",
            "WARNING:tensorflow:From /usr/local/lib/python3.6/dist-packages/keras/backend/tensorflow_backend.py:207: The name tf.global_variables is deprecated. Please use tf.compat.v1.global_variables instead.\n",
            "\n",
            "WARNING:tensorflow:From /usr/local/lib/python3.6/dist-packages/keras/backend/tensorflow_backend.py:216: The name tf.is_variable_initialized is deprecated. Please use tf.compat.v1.is_variable_initialized instead.\n",
            "\n",
            "WARNING:tensorflow:From /usr/local/lib/python3.6/dist-packages/keras/backend/tensorflow_backend.py:223: The name tf.variables_initializer is deprecated. Please use tf.compat.v1.variables_initializer instead.\n",
            "\n",
            "23048/23048 [==============================] - 21s 910us/step - loss: 1.1062 - acc: 0.5409 - val_loss: 0.7413 - val_acc: 0.7143\n",
            "\n",
            "Epoch 00001: val_loss improved from inf to 0.74129, saving model to ./model/test.model\n",
            "Epoch 2/150\n",
            "23048/23048 [==============================] - 6s 268us/step - loss: 0.6926 - acc: 0.7347 - val_loss: 0.5713 - val_acc: 0.7789\n",
            "\n",
            "Epoch 00002: val_loss improved from 0.74129 to 0.57131, saving model to ./model/test.model\n",
            "Epoch 3/150\n",
            "23048/23048 [==============================] - 6s 262us/step - loss: 0.5847 - acc: 0.7735 - val_loss: 0.4918 - val_acc: 0.8084\n",
            "\n",
            "Epoch 00003: val_loss improved from 0.57131 to 0.49178, saving model to ./model/test.model\n",
            "Epoch 4/150\n",
            "23048/23048 [==============================] - 6s 261us/step - loss: 0.4990 - acc: 0.8059 - val_loss: 0.4541 - val_acc: 0.8277\n",
            "\n",
            "Epoch 00004: val_loss improved from 0.49178 to 0.45409, saving model to ./model/test.model\n",
            "Epoch 5/150\n",
            "23048/23048 [==============================] - 6s 257us/step - loss: 0.4715 - acc: 0.8161 - val_loss: 0.3705 - val_acc: 0.8527\n",
            "\n",
            "Epoch 00005: val_loss improved from 0.45409 to 0.37052, saving model to ./model/test.model\n",
            "Epoch 6/150\n",
            "23048/23048 [==============================] - 6s 255us/step - loss: 0.4354 - acc: 0.8287 - val_loss: 0.3828 - val_acc: 0.8577\n",
            "\n",
            "Epoch 00006: val_loss did not improve from 0.37052\n",
            "Epoch 7/150\n",
            "23048/23048 [==============================] - 6s 254us/step - loss: 0.3941 - acc: 0.8462 - val_loss: 0.3662 - val_acc: 0.8523\n",
            "\n",
            "Epoch 00007: val_loss improved from 0.37052 to 0.36615, saving model to ./model/test.model\n",
            "Epoch 8/150\n",
            "23048/23048 [==============================] - 6s 258us/step - loss: 0.3533 - acc: 0.8612 - val_loss: 0.2849 - val_acc: 0.8881\n",
            "\n",
            "Epoch 00008: val_loss improved from 0.36615 to 0.28494, saving model to ./model/test.model\n",
            "Epoch 9/150\n",
            "23048/23048 [==============================] - 6s 258us/step - loss: 0.3496 - acc: 0.8607 - val_loss: 0.2701 - val_acc: 0.8971\n",
            "\n",
            "Epoch 00009: val_loss improved from 0.28494 to 0.27013, saving model to ./model/test.model\n",
            "Epoch 10/150\n",
            "23048/23048 [==============================] - 6s 262us/step - loss: 0.3166 - acc: 0.8740 - val_loss: 0.2528 - val_acc: 0.9025\n",
            "\n",
            "Epoch 00010: val_loss improved from 0.27013 to 0.25285, saving model to ./model/test.model\n",
            "Epoch 11/150\n",
            "23048/23048 [==============================] - 6s 261us/step - loss: 0.2974 - acc: 0.8816 - val_loss: 0.2435 - val_acc: 0.9018\n",
            "\n",
            "Epoch 00011: val_loss improved from 0.25285 to 0.24354, saving model to ./model/test.model\n",
            "Epoch 12/150\n",
            "23048/23048 [==============================] - 6s 261us/step - loss: 0.2901 - acc: 0.8839 - val_loss: 0.2482 - val_acc: 0.9012\n",
            "\n",
            "Epoch 00012: val_loss did not improve from 0.24354\n",
            "Epoch 13/150\n",
            "23048/23048 [==============================] - 6s 256us/step - loss: 0.2638 - acc: 0.8939 - val_loss: 0.2857 - val_acc: 0.8874\n",
            "\n",
            "Epoch 00013: val_loss did not improve from 0.24354\n",
            "Epoch 14/150\n",
            "23048/23048 [==============================] - 6s 261us/step - loss: 0.2537 - acc: 0.8980 - val_loss: 0.1917 - val_acc: 0.9212\n",
            "\n",
            "Epoch 00014: val_loss improved from 0.24354 to 0.19173, saving model to ./model/test.model\n",
            "Epoch 15/150\n",
            "23048/23048 [==============================] - 7s 283us/step - loss: 0.2428 - acc: 0.9064 - val_loss: 0.1843 - val_acc: 0.9323\n",
            "\n",
            "Epoch 00015: val_loss improved from 0.19173 to 0.18430, saving model to ./model/test.model\n",
            "Epoch 16/150\n",
            "23048/23048 [==============================] - 6s 278us/step - loss: 0.2313 - acc: 0.9072 - val_loss: 0.1823 - val_acc: 0.9217\n",
            "\n",
            "Epoch 00016: val_loss improved from 0.18430 to 0.18229, saving model to ./model/test.model\n",
            "Epoch 17/150\n",
            "23048/23048 [==============================] - 6s 277us/step - loss: 0.2265 - acc: 0.9095 - val_loss: 0.1847 - val_acc: 0.9308\n",
            "\n",
            "Epoch 00017: val_loss did not improve from 0.18229\n",
            "Epoch 18/150\n",
            "23048/23048 [==============================] - 6s 277us/step - loss: 0.2173 - acc: 0.9130 - val_loss: 0.1599 - val_acc: 0.9380\n",
            "\n",
            "Epoch 00018: val_loss improved from 0.18229 to 0.15988, saving model to ./model/test.model\n",
            "Epoch 19/150\n",
            "23048/23048 [==============================] - 6s 279us/step - loss: 0.2066 - acc: 0.9171 - val_loss: 0.1771 - val_acc: 0.9290\n",
            "\n",
            "Epoch 00019: val_loss did not improve from 0.15988\n",
            "Epoch 20/150\n",
            "23048/23048 [==============================] - 6s 273us/step - loss: 0.1945 - acc: 0.9222 - val_loss: 0.1700 - val_acc: 0.9342\n",
            "\n",
            "Epoch 00020: val_loss did not improve from 0.15988\n",
            "Epoch 21/150\n",
            "23048/23048 [==============================] - 6s 281us/step - loss: 0.1960 - acc: 0.9235 - val_loss: 0.1508 - val_acc: 0.9406\n",
            "\n",
            "Epoch 00021: val_loss improved from 0.15988 to 0.15078, saving model to ./model/test.model\n",
            "Epoch 22/150\n",
            "23048/23048 [==============================] - 6s 256us/step - loss: 0.1754 - acc: 0.9297 - val_loss: 0.1407 - val_acc: 0.9459\n",
            "\n",
            "Epoch 00022: val_loss improved from 0.15078 to 0.14070, saving model to ./model/test.model\n",
            "Epoch 23/150\n",
            "23048/23048 [==============================] - 7s 284us/step - loss: 0.1890 - acc: 0.9271 - val_loss: 0.1992 - val_acc: 0.9250\n",
            "\n",
            "Epoch 00023: val_loss did not improve from 0.14070\n",
            "Epoch 24/150\n",
            "23048/23048 [==============================] - 7s 293us/step - loss: 0.1842 - acc: 0.9275 - val_loss: 0.1570 - val_acc: 0.9391\n",
            "\n",
            "Epoch 00024: val_loss did not improve from 0.14070\n",
            "Epoch 25/150\n",
            "23048/23048 [==============================] - 6s 280us/step - loss: 0.1777 - acc: 0.9303 - val_loss: 0.1458 - val_acc: 0.9439\n",
            "\n",
            "Epoch 00025: val_loss did not improve from 0.14070\n",
            "Epoch 26/150\n",
            "23048/23048 [==============================] - 6s 279us/step - loss: 0.1726 - acc: 0.9321 - val_loss: 0.1532 - val_acc: 0.9393\n",
            "\n",
            "Epoch 00026: val_loss did not improve from 0.14070\n",
            "Epoch 27/150\n",
            "23048/23048 [==============================] - 6s 275us/step - loss: 0.1728 - acc: 0.9326 - val_loss: 0.1446 - val_acc: 0.9415\n",
            "\n",
            "Epoch 00027: val_loss did not improve from 0.14070\n"
          ],
          "name": "stdout"
        }
      ]
    },
    {
      "cell_type": "code",
      "metadata": {
        "id": "VGhmlkIkPS1P",
        "colab_type": "code",
        "outputId": "848bb32c-a0e4-4a77-955c-22e554976c67",
        "colab": {
          "base_uri": "https://localhost:8080/",
          "height": 295
        }
      },
      "source": [
        "# loss 그래프\n",
        "train_loss = hist.history['loss']\n",
        "val_loss = hist.history['val_loss']\n",
        "\n",
        "x = range(len(train_loss))\n",
        "plt.plot(x, train_loss, marker='.', color='red', label='Train loss')\n",
        "plt.plot(x, val_loss, marker='.', color='blue', label='Val loss')\n",
        "plt.legend()\n",
        "plt.xlabel('epoch')\n",
        "plt.ylabel('loss')\n",
        "plt.title('Loss during epochs')\n",
        "plt.show()"
      ],
      "execution_count": 8,
      "outputs": [
        {
          "output_type": "display_data",
          "data": {
            "image/png": "[encoded data removed]",
            "text/plain": [
              "<Figure size 432x288 with 1 Axes>"
            ]
          },
          "metadata": {
            "tags": []
          }
        }
      ]
    },
    {
      "cell_type": "code",
      "metadata": {
        "id": "bD84vg0tjxKM",
        "colab_type": "code",
        "outputId": "484099d0-5629-48fd-c02a-425a0b9e9c2d",
        "colab": {
          "base_uri": "https://localhost:8080/",
          "height": 295
        }
      },
      "source": [
        "# acc 그래프\n",
        "train_acc = hist.history['acc']\n",
        "val_acc = hist.history['val_acc']\n",
        "\n",
        "plt.plot(x, train_acc, marker='.', c='red', label='Train Acc.')\n",
        "plt.plot(x, val_acc, marker='.', c='blue', label='Val Acc.')\n",
        "plt.legend()\n",
        "plt.xlabel('epoch')\n",
        "plt.ylabel('accuracy')\n",
        "plt.title('Accuracy during epochs')\n",
        "plt.show()\n"
      ],
      "execution_count": 9,
      "outputs": [
        {
          "output_type": "display_data",
          "data": {
            "image/png": "[encoded data removed]",
            "text/plain": [
              "<Figure size 432x288 with 1 Axes>"
            ]
          },
          "metadata": {
            "tags": []
          }
        }
      ]
    },
    {
      "cell_type": "code",
      "metadata": {
        "id": "z1hd9oH26vcZ",
        "colab_type": "code",
        "outputId": "104a7050-a7c3-4255-9758-769bd416d796",
        "colab": {
          "base_uri": "https://localhost:8080/",
          "height": 53
        }
      },
      "source": [
        "# Test set으로 모델 평가\n",
        "score = model.evaluate(X_test, y_test, verbose=0)\n",
        "print('Training loss:', score[0])\n",
        "print('Training accuracy: ', score[1])"
      ],
      "execution_count": 10,
      "outputs": [
        {
          "output_type": "stream",
          "text": [
            "Training loss: 0.1531414191714264\n",
            "Training accuracy:  0.9393308343828412\n"
          ],
          "name": "stdout"
        }
      ]
    },
    {
      "cell_type": "code",
      "metadata": {
        "id": "wHZx4aeHOA-a",
        "colab_type": "code",
        "colab": {}
      },
      "source": [
        "# 모델 저장하기\n",
        "from keras.models import load_model\n",
        "model.save('cnn_fin.h5')"
      ],
      "execution_count": 0,
      "outputs": []
    },
    {
      "cell_type": "code",
      "metadata": {
        "id": "nsCClGK_RytO",
        "colab_type": "code",
        "outputId": "3b594b17-7ead-4276-93f9-b8ffdcfafec2",
        "colab": {
          "base_uri": "https://localhost:8080/",
          "height": 143
        }
      },
      "source": [
        "# Confusion Matrix\n",
        "\n",
        "from sklearn.metrics import confusion_matrix, classification_report\n",
        "test_true = np.argmax(y_test, axis=1)\n",
        "print(test_true)\n",
        "test_pred = np.argmax(model.predict(X_test), axis=1)\n",
        "print(test_pred)\n",
        "\n",
        "cm = confusion_matrix(test_true, test_pred)\n",
        "print(cm)"
      ],
      "execution_count": 12,
      "outputs": [
        {
          "output_type": "stream",
          "text": [
            "[3 1 2 ... 2 1 0]\n",
            "[3 1 2 ... 3 1 0]\n",
            "[[1407    2    7   16    8]\n",
            " [   6 1360    5    1    5]\n",
            " [   7   13 1132  240    3]\n",
            " [  67    2   45 1400    4]\n",
            " [   4    1    0    1 1467]]\n"
          ],
          "name": "stdout"
        }
      ]
    },
    {
      "cell_type": "code",
      "metadata": {
        "id": "5kz2HMf01WvM",
        "colab_type": "code",
        "outputId": "1d0cf104-9345-47f1-f8b0-a6c5256e3dee",
        "colab": {
          "base_uri": "https://localhost:8080/",
          "height": 233
        }
      },
      "source": [
        "# Classification Report\n",
        "from sklearn.metrics import classification_report\n",
        "report = classification_report(test_true, test_pred, target_names=os.listdir('/content/drive/My Drive/Final'))\n",
        "print(report)"
      ],
      "execution_count": 13,
      "outputs": [
        {
          "output_type": "stream",
          "text": [
            "              precision    recall  f1-score   support\n",
            "\n",
            "       nevus       0.94      0.98      0.96      1440\n",
            "          df       0.99      0.99      0.99      1377\n",
            "      eschar       0.95      0.81      0.88      1395\n",
            "          vl       0.84      0.92      0.88      1518\n",
            "         mel       0.99      1.00      0.99      1473\n",
            "\n",
            "    accuracy                           0.94      7203\n",
            "   macro avg       0.94      0.94      0.94      7203\n",
            "weighted avg       0.94      0.94      0.94      7203\n",
            "\n"
          ],
          "name": "stdout"
        }
      ]
    }
  ]
}