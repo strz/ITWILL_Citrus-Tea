{
  "nbformat": 4,
  "nbformat_minor": 0,
  "metadata": {
    "colab": {
      "name": "vgg16_moment.ipynb",
      "provenance": [],
      "collapsed_sections": []
    },
    "kernelspec": {
      "name": "python3",
      "display_name": "Python 3"
    },
    "accelerator": "GPU"
  },
  "cells": [
    {
      "cell_type": "markdown",
      "metadata": {
        "id": "hqO9qMlTojwN",
        "colab_type": "text"
      },
      "source": [
        "˙ pre_trained vgg16에 dropout층 추가 </br>\n",
        " vgg16_practice:: momentum 0.9 설정"
      ]
    },
    {
      "cell_type": "code",
      "metadata": {
        "id": "GF8jsQvFpgQT",
        "colab_type": "code",
        "outputId": "2634280d-5549-4e95-9e25-b53a859ae95a",
        "colab": {
          "base_uri": "https://localhost:8080/",
          "height": 35
        }
      },
      "source": [
        "%tensorflow_version 2.x"
      ],
      "execution_count": 1,
      "outputs": [
        {
          "output_type": "stream",
          "text": [
            "TensorFlow 2.x selected.\n"
          ],
          "name": "stdout"
        }
      ]
    },
    {
      "cell_type": "code",
      "metadata": {
        "id": "SCZ-nBY7oce1",
        "colab_type": "code",
        "colab": {}
      },
      "source": [
        "import os\n",
        "import numpy as np\n",
        "import matplotlib.pyplot as plt\n",
        "from tensorflow.keras.applications.vgg16 import VGG16\n",
        "from tensorflow.keras.models import Sequential\n",
        "from tensorflow.keras.layers import GlobalAveragePooling2D, Dense, Dropout\n",
        "from tensorflow.keras.callbacks import ModelCheckpoint, EarlyStopping\n",
        "from tensorflow.keras.utils import plot_model\n",
        "from tensorflow.keras.models import load_model\n",
        "from sklearn.metrics import confusion_matrix, classification_report\n",
        "from tensorflow.keras.optimizers import SGD"
      ],
      "execution_count": 0,
      "outputs": []
    },
    {
      "cell_type": "code",
      "metadata": {
        "id": "wsH6B9JppYDE",
        "colab_type": "code",
        "outputId": "b8058c6c-e471-4a24-859e-5c1c7ada339b",
        "colab": {
          "base_uri": "https://localhost:8080/",
          "height": 53
        }
      },
      "source": [
        "# numpy 데이터를 불러와서 shape 확인\n",
        "X_train, X_test, y_train, y_test = np.load(\"/content/drive/My Drive/practice7_data.npy\", allow_pickle=True)\n",
        "print(f'X_train: {X_train.shape}, y_train: {y_train.shape}')  # X_train: (20802, 64, 64, 3), y_train: (20802, 5)\n",
        "print(f'X_test: {X_test.shape}, y_train: {y_test.shape}')  # X_test: (5201, 64, 64, 3), y_train: (5201, 5)"
      ],
      "execution_count": 3,
      "outputs": [
        {
          "output_type": "stream",
          "text": [
            "X_train: (20802, 64, 64, 3), y_train: (20802, 5)\n",
            "X_test: (5201, 64, 64, 3), y_train: (5201, 5)\n"
          ],
          "name": "stdout"
        }
      ]
    },
    {
      "cell_type": "code",
      "metadata": {
        "id": "KUFQqUGfqFM2",
        "colab_type": "code",
        "colab": {}
      },
      "source": [
        "# 데이터 정규화\n",
        "X_train = X_train.astype(float) / 255\n",
        "X_test = X_test.astype(float) / 255"
      ],
      "execution_count": 0,
      "outputs": []
    },
    {
      "cell_type": "code",
      "metadata": {
        "id": "IG8R_3mlqPaj",
        "colab_type": "code",
        "outputId": "4498d3a2-a765-4d4c-9547-b8121a2edb25",
        "colab": {
          "base_uri": "https://localhost:8080/",
          "height": 1000
        }
      },
      "source": [
        "# 3. 이미 훈련된 vgg16 모델에 globalaveragepooling2d, dense 연결해서 사용\n",
        "pre_trained_vgg = VGG16(weights='imagenet', include_top=False, input_shape=X_train.shape[1:])\n",
        "# include_top: 네트워크의 최상단에 3개의 완전 연결 레이어를 넣을지 여부\n",
        "# input_shape: include_top이 False일 경우만 특정. 그렇지 않다면 인풋의 형태가 (224, 224, 3)이어야 함.\n",
        "pre_trained_vgg.trainable = False # 이미지넷으로 학습된 값들을 그대로 사용할 것이기 때문에\n",
        "pre_trained_vgg.summary()\n",
        "\n",
        "additional_model = Sequential()\n",
        "additional_model.add(pre_trained_vgg)\n",
        "\n",
        "# pre_trained_vgg의 디폴트된 input_shape과 다른 형태를 넣었기 때문에 Flatten()대신 Global AveragePooling2D() 이용. 이 부분은 더 공부 필요\n",
        "additional_model.add(GlobalAveragePooling2D()) \n",
        "additional_model.add(Dense(4096, activation='relu'))\n",
        "additional_model.add(Dropout(0.5))\n",
        "additional_model.add(Dense(4096, activation='relu'))\n",
        "additional_model.add(Dropout(0.5))\n",
        "additional_model.add(Dense(1000, activation='relu'))\n",
        "additional_model.add(Dense(5, activation='softmax'))\n",
        "additional_model.summary()\n",
        "plot_model(additional_model, to_file='practice_1.png')"
      ],
      "execution_count": 5,
      "outputs": [
        {
          "output_type": "stream",
          "text": [
            "Downloading data from https://github.com/fchollet/deep-learning-models/releases/download/v0.1/vgg16_weights_tf_dim_ordering_tf_kernels_notop.h5\n",
            "58892288/58889256 [==============================] - 5s 0us/step\n",
            "Model: \"vgg16\"\n",
            "_________________________________________________________________\n",
            "Layer (type)                 Output Shape              Param #   \n",
            "=================================================================\n",
            "input_1 (InputLayer)         [(None, 64, 64, 3)]       0         \n",
            "_________________________________________________________________\n",
            "block1_conv1 (Conv2D)        (None, 64, 64, 64)        1792      \n",
            "_________________________________________________________________\n",
            "block1_conv2 (Conv2D)        (None, 64, 64, 64)        36928     \n",
            "_________________________________________________________________\n",
            "block1_pool (MaxPooling2D)   (None, 32, 32, 64)        0         \n",
            "_________________________________________________________________\n",
            "block2_conv1 (Conv2D)        (None, 32, 32, 128)       73856     \n",
            "_________________________________________________________________\n",
            "block2_conv2 (Conv2D)        (None, 32, 32, 128)       147584    \n",
            "_________________________________________________________________\n",
            "block2_pool (MaxPooling2D)   (None, 16, 16, 128)       0         \n",
            "_________________________________________________________________\n",
            "block3_conv1 (Conv2D)        (None, 16, 16, 256)       295168    \n",
            "_________________________________________________________________\n",
            "block3_conv2 (Conv2D)        (None, 16, 16, 256)       590080    \n",
            "_________________________________________________________________\n",
            "block3_conv3 (Conv2D)        (None, 16, 16, 256)       590080    \n",
            "_________________________________________________________________\n",
            "block3_pool (MaxPooling2D)   (None, 8, 8, 256)         0         \n",
            "_________________________________________________________________\n",
            "block4_conv1 (Conv2D)        (None, 8, 8, 512)         1180160   \n",
            "_________________________________________________________________\n",
            "block4_conv2 (Conv2D)        (None, 8, 8, 512)         2359808   \n",
            "_________________________________________________________________\n",
            "block4_conv3 (Conv2D)        (None, 8, 8, 512)         2359808   \n",
            "_________________________________________________________________\n",
            "block4_pool (MaxPooling2D)   (None, 4, 4, 512)         0         \n",
            "_________________________________________________________________\n",
            "block5_conv1 (Conv2D)        (None, 4, 4, 512)         2359808   \n",
            "_________________________________________________________________\n",
            "block5_conv2 (Conv2D)        (None, 4, 4, 512)         2359808   \n",
            "_________________________________________________________________\n",
            "block5_conv3 (Conv2D)        (None, 4, 4, 512)         2359808   \n",
            "_________________________________________________________________\n",
            "block5_pool (MaxPooling2D)   (None, 2, 2, 512)         0         \n",
            "=================================================================\n",
            "Total params: 14,714,688\n",
            "Trainable params: 0\n",
            "Non-trainable params: 14,714,688\n",
            "_________________________________________________________________\n",
            "Model: \"sequential\"\n",
            "_________________________________________________________________\n",
            "Layer (type)                 Output Shape              Param #   \n",
            "=================================================================\n",
            "vgg16 (Model)                (None, 2, 2, 512)         14714688  \n",
            "_________________________________________________________________\n",
            "global_average_pooling2d (Gl (None, 512)               0         \n",
            "_________________________________________________________________\n",
            "dense (Dense)                (None, 4096)              2101248   \n",
            "_________________________________________________________________\n",
            "dropout (Dropout)            (None, 4096)              0         \n",
            "_________________________________________________________________\n",
            "dense_1 (Dense)              (None, 4096)              16781312  \n",
            "_________________________________________________________________\n",
            "dropout_1 (Dropout)          (None, 4096)              0         \n",
            "_________________________________________________________________\n",
            "dense_2 (Dense)              (None, 1000)              4097000   \n",
            "_________________________________________________________________\n",
            "dense_3 (Dense)              (None, 5)                 5005      \n",
            "=================================================================\n",
            "Total params: 37,699,253\n",
            "Trainable params: 22,984,565\n",
            "Non-trainable params: 14,714,688\n",
            "_________________________________________________________________\n"
          ],
          "name": "stdout"
        },
        {
          "output_type": "execute_result",
          "data": {
            "image/png": "[encoded data removed]",
            "text/plain": [
              "<IPython.core.display.Image object>"
            ]
          },
          "metadata": {
            "tags": []
          },
          "execution_count": 5
        }
      ]
    },
    {
      "cell_type": "code",
      "metadata": {
        "id": "4F1fAnfgqxn4",
        "colab_type": "code",
        "colab": {}
      },
      "source": [
        "additional_model.compile(loss='categorical_crossentropy', optimizer=SGD(lr=0.01, momentum=0.7, clipvalue=0.5), metrics=['accuracy']) # 'sgd'\n",
        "\n",
        "model_dir = \"./drive/My Drive/Colab Notebooks/model/\"\n",
        "model_path = model_dir + 'practice12.model'\n",
        "checkpoint = ModelCheckpoint(filepath=model_path, monitor='val_loss', verbose=1, save_best_only=True)\n",
        "early_stop = EarlyStopping(monitor='val_loss', patience=10)"
      ],
      "execution_count": 0,
      "outputs": []
    },
    {
      "cell_type": "code",
      "metadata": {
        "id": "6gSFo8vHq1nX",
        "colab_type": "code",
        "outputId": "64f64684-eb78-4d00-c222-e4b176863d01",
        "colab": {
          "base_uri": "https://localhost:8080/",
          "height": 1000
        }
      },
      "source": [
        "history = additional_model.fit(X_train, y_train, batch_size=100, epochs=100, callbacks=[checkpoint, early_stop],\n",
        "                        validation_split=0.2)"
      ],
      "execution_count": 9,
      "outputs": [
        {
          "output_type": "stream",
          "text": [
            "Train on 16641 samples, validate on 4161 samples\n",
            "Epoch 1/100\n",
            "16600/16641 [============================>.] - ETA: 0s - loss: 1.3260 - accuracy: 0.4445\n",
            "Epoch 00001: val_loss improved from inf to 1.05913, saving model to ./drive/My Drive/Colab Notebooks/model/practice12.model\n",
            "WARNING:tensorflow:From /tensorflow-2.1.0/python3.6/tensorflow_core/python/ops/resource_variable_ops.py:1786: calling BaseResourceVariable.__init__ (from tensorflow.python.ops.resource_variable_ops) with constraint is deprecated and will be removed in a future version.\n",
            "Instructions for updating:\n",
            "If using Keras pass *_constraint arguments to layers.\n",
            "INFO:tensorflow:Assets written to: ./drive/My Drive/Colab Notebooks/model/practice12.model/assets\n",
            "16641/16641 [==============================] - 17s 1ms/sample - loss: 1.3261 - accuracy: 0.4443 - val_loss: 1.0591 - val_accuracy: 0.5898\n",
            "Epoch 2/100\n",
            "16500/16641 [============================>.] - ETA: 0s - loss: 1.0133 - accuracy: 0.5946\n",
            "Epoch 00002: val_loss improved from 1.05913 to 0.93789, saving model to ./drive/My Drive/Colab Notebooks/model/practice12.model\n",
            "INFO:tensorflow:Assets written to: ./drive/My Drive/Colab Notebooks/model/practice12.model/assets\n",
            "16641/16641 [==============================] - 9s 545us/sample - loss: 1.0128 - accuracy: 0.5950 - val_loss: 0.9379 - val_accuracy: 0.6253\n",
            "Epoch 3/100\n",
            "16500/16641 [============================>.] - ETA: 0s - loss: 0.8996 - accuracy: 0.6372\n",
            "Epoch 00003: val_loss improved from 0.93789 to 0.84640, saving model to ./drive/My Drive/Colab Notebooks/model/practice12.model\n",
            "INFO:tensorflow:Assets written to: ./drive/My Drive/Colab Notebooks/model/practice12.model/assets\n",
            "16641/16641 [==============================] - 10s 603us/sample - loss: 0.8993 - accuracy: 0.6373 - val_loss: 0.8464 - val_accuracy: 0.6645\n",
            "Epoch 4/100\n",
            "16500/16641 [============================>.] - ETA: 0s - loss: 0.8392 - accuracy: 0.6632\n",
            "Epoch 00004: val_loss improved from 0.84640 to 0.79603, saving model to ./drive/My Drive/Colab Notebooks/model/practice12.model\n",
            "INFO:tensorflow:Assets written to: ./drive/My Drive/Colab Notebooks/model/practice12.model/assets\n",
            "16641/16641 [==============================] - 9s 551us/sample - loss: 0.8392 - accuracy: 0.6632 - val_loss: 0.7960 - val_accuracy: 0.6825\n",
            "Epoch 5/100\n",
            "16500/16641 [============================>.] - ETA: 0s - loss: 0.8014 - accuracy: 0.6826\n",
            "Epoch 00005: val_loss did not improve from 0.79603\n",
            "16641/16641 [==============================] - 7s 404us/sample - loss: 0.8023 - accuracy: 0.6817 - val_loss: 0.8828 - val_accuracy: 0.6486\n",
            "Epoch 6/100\n",
            "16500/16641 [============================>.] - ETA: 0s - loss: 0.7849 - accuracy: 0.6819\n",
            "Epoch 00006: val_loss did not improve from 0.79603\n",
            "16641/16641 [==============================] - 7s 400us/sample - loss: 0.7841 - accuracy: 0.6826 - val_loss: 0.8149 - val_accuracy: 0.6806\n",
            "Epoch 7/100\n",
            "16500/16641 [============================>.] - ETA: 0s - loss: 0.7633 - accuracy: 0.6955\n",
            "Epoch 00007: val_loss improved from 0.79603 to 0.70865, saving model to ./drive/My Drive/Colab Notebooks/model/practice12.model\n",
            "INFO:tensorflow:Assets written to: ./drive/My Drive/Colab Notebooks/model/practice12.model/assets\n",
            "16641/16641 [==============================] - 9s 535us/sample - loss: 0.7638 - accuracy: 0.6955 - val_loss: 0.7086 - val_accuracy: 0.7193\n",
            "Epoch 8/100\n",
            "16500/16641 [============================>.] - ETA: 0s - loss: 0.7404 - accuracy: 0.7050\n",
            "Epoch 00008: val_loss improved from 0.70865 to 0.67218, saving model to ./drive/My Drive/Colab Notebooks/model/practice12.model\n",
            "INFO:tensorflow:Assets written to: ./drive/My Drive/Colab Notebooks/model/practice12.model/assets\n",
            "16641/16641 [==============================] - 9s 553us/sample - loss: 0.7403 - accuracy: 0.7050 - val_loss: 0.6722 - val_accuracy: 0.7378\n",
            "Epoch 9/100\n",
            "16500/16641 [============================>.] - ETA: 0s - loss: 0.7203 - accuracy: 0.7105\n",
            "Epoch 00009: val_loss did not improve from 0.67218\n",
            "16641/16641 [==============================] - 7s 406us/sample - loss: 0.7206 - accuracy: 0.7105 - val_loss: 0.8053 - val_accuracy: 0.6926\n",
            "Epoch 10/100\n",
            "16500/16641 [============================>.] - ETA: 0s - loss: 0.7184 - accuracy: 0.7144\n",
            "Epoch 00010: val_loss improved from 0.67218 to 0.64389, saving model to ./drive/My Drive/Colab Notebooks/model/practice12.model\n",
            "INFO:tensorflow:Assets written to: ./drive/My Drive/Colab Notebooks/model/practice12.model/assets\n",
            "16641/16641 [==============================] - 9s 553us/sample - loss: 0.7176 - accuracy: 0.7151 - val_loss: 0.6439 - val_accuracy: 0.7460\n",
            "Epoch 11/100\n",
            "16500/16641 [============================>.] - ETA: 0s - loss: 0.6934 - accuracy: 0.7236\n",
            "Epoch 00011: val_loss did not improve from 0.64389\n",
            "16641/16641 [==============================] - 7s 398us/sample - loss: 0.6921 - accuracy: 0.7243 - val_loss: 0.6662 - val_accuracy: 0.7289\n",
            "Epoch 12/100\n",
            "16500/16641 [============================>.] - ETA: 0s - loss: 0.6797 - accuracy: 0.7271\n",
            "Epoch 00012: val_loss improved from 0.64389 to 0.62351, saving model to ./drive/My Drive/Colab Notebooks/model/practice12.model\n",
            "INFO:tensorflow:Assets written to: ./drive/My Drive/Colab Notebooks/model/practice12.model/assets\n",
            "16641/16641 [==============================] - 9s 565us/sample - loss: 0.6797 - accuracy: 0.7274 - val_loss: 0.6235 - val_accuracy: 0.7563\n",
            "Epoch 13/100\n",
            "16500/16641 [============================>.] - ETA: 0s - loss: 0.6761 - accuracy: 0.7316\n",
            "Epoch 00013: val_loss did not improve from 0.62351\n",
            "16641/16641 [==============================] - 7s 397us/sample - loss: 0.6753 - accuracy: 0.7319 - val_loss: 0.6351 - val_accuracy: 0.7508\n",
            "Epoch 14/100\n",
            "16500/16641 [============================>.] - ETA: 0s - loss: 0.6621 - accuracy: 0.7375\n",
            "Epoch 00014: val_loss did not improve from 0.62351\n",
            "16641/16641 [==============================] - 7s 405us/sample - loss: 0.6614 - accuracy: 0.7377 - val_loss: 0.7668 - val_accuracy: 0.6955\n",
            "Epoch 15/100\n",
            "16500/16641 [============================>.] - ETA: 0s - loss: 0.6482 - accuracy: 0.7396\n",
            "Epoch 00015: val_loss did not improve from 0.62351\n",
            "16641/16641 [==============================] - 7s 397us/sample - loss: 0.6481 - accuracy: 0.7396 - val_loss: 0.6506 - val_accuracy: 0.7294\n",
            "Epoch 16/100\n",
            "16500/16641 [============================>.] - ETA: 0s - loss: 0.6419 - accuracy: 0.7447\n",
            "Epoch 00016: val_loss did not improve from 0.62351\n",
            "16641/16641 [==============================] - 7s 396us/sample - loss: 0.6410 - accuracy: 0.7451 - val_loss: 0.6595 - val_accuracy: 0.7383\n",
            "Epoch 17/100\n",
            "16500/16641 [============================>.] - ETA: 0s - loss: 0.6379 - accuracy: 0.7422\n",
            "Epoch 00017: val_loss improved from 0.62351 to 0.62057, saving model to ./drive/My Drive/Colab Notebooks/model/practice12.model\n",
            "INFO:tensorflow:Assets written to: ./drive/My Drive/Colab Notebooks/model/practice12.model/assets\n",
            "16641/16641 [==============================] - 10s 579us/sample - loss: 0.6368 - accuracy: 0.7431 - val_loss: 0.6206 - val_accuracy: 0.7501\n",
            "Epoch 18/100\n",
            "16500/16641 [============================>.] - ETA: 0s - loss: 0.6326 - accuracy: 0.7475\n",
            "Epoch 00018: val_loss did not improve from 0.62057\n",
            "16641/16641 [==============================] - 7s 396us/sample - loss: 0.6336 - accuracy: 0.7473 - val_loss: 0.6942 - val_accuracy: 0.7318\n",
            "Epoch 19/100\n",
            "16500/16641 [============================>.] - ETA: 0s - loss: 0.6217 - accuracy: 0.7522\n",
            "Epoch 00019: val_loss improved from 0.62057 to 0.56288, saving model to ./drive/My Drive/Colab Notebooks/model/practice12.model\n",
            "INFO:tensorflow:Assets written to: ./drive/My Drive/Colab Notebooks/model/practice12.model/assets\n",
            "16641/16641 [==============================] - 9s 552us/sample - loss: 0.6217 - accuracy: 0.7523 - val_loss: 0.5629 - val_accuracy: 0.7755\n",
            "Epoch 20/100\n",
            "16500/16641 [============================>.] - ETA: 0s - loss: 0.6237 - accuracy: 0.7534\n",
            "Epoch 00020: val_loss did not improve from 0.56288\n",
            "16641/16641 [==============================] - 7s 400us/sample - loss: 0.6232 - accuracy: 0.7534 - val_loss: 0.6191 - val_accuracy: 0.7450\n",
            "Epoch 21/100\n",
            "16500/16641 [============================>.] - ETA: 0s - loss: 0.6053 - accuracy: 0.7615\n",
            "Epoch 00021: val_loss improved from 0.56288 to 0.55988, saving model to ./drive/My Drive/Colab Notebooks/model/practice12.model\n",
            "INFO:tensorflow:Assets written to: ./drive/My Drive/Colab Notebooks/model/practice12.model/assets\n",
            "16641/16641 [==============================] - 9s 565us/sample - loss: 0.6053 - accuracy: 0.7613 - val_loss: 0.5599 - val_accuracy: 0.7796\n",
            "Epoch 22/100\n",
            "16500/16641 [============================>.] - ETA: 0s - loss: 0.5988 - accuracy: 0.7594\n",
            "Epoch 00022: val_loss did not improve from 0.55988\n",
            "16641/16641 [==============================] - 7s 400us/sample - loss: 0.5997 - accuracy: 0.7588 - val_loss: 0.5700 - val_accuracy: 0.7777\n",
            "Epoch 23/100\n",
            "16500/16641 [============================>.] - ETA: 0s - loss: 0.5989 - accuracy: 0.7628\n",
            "Epoch 00023: val_loss did not improve from 0.55988\n",
            "16641/16641 [==============================] - 7s 402us/sample - loss: 0.5983 - accuracy: 0.7629 - val_loss: 0.5715 - val_accuracy: 0.7690\n",
            "Epoch 24/100\n",
            "16500/16641 [============================>.] - ETA: 0s - loss: 0.5885 - accuracy: 0.7664\n",
            "Epoch 00024: val_loss did not improve from 0.55988\n",
            "16641/16641 [==============================] - 7s 405us/sample - loss: 0.5892 - accuracy: 0.7658 - val_loss: 0.5646 - val_accuracy: 0.7731\n",
            "Epoch 25/100\n",
            "16500/16641 [============================>.] - ETA: 0s - loss: 0.5858 - accuracy: 0.7675\n",
            "Epoch 00025: val_loss did not improve from 0.55988\n",
            "16641/16641 [==============================] - 7s 402us/sample - loss: 0.5860 - accuracy: 0.7676 - val_loss: 0.6376 - val_accuracy: 0.7445\n",
            "Epoch 26/100\n",
            "16500/16641 [============================>.] - ETA: 0s - loss: 0.5794 - accuracy: 0.7702\n",
            "Epoch 00026: val_loss did not improve from 0.55988\n",
            "16641/16641 [==============================] - 7s 397us/sample - loss: 0.5797 - accuracy: 0.7703 - val_loss: 0.6304 - val_accuracy: 0.7573\n",
            "Epoch 27/100\n",
            "16500/16641 [============================>.] - ETA: 0s - loss: 0.5715 - accuracy: 0.7685\n",
            "Epoch 00027: val_loss did not improve from 0.55988\n",
            "16641/16641 [==============================] - 7s 400us/sample - loss: 0.5703 - accuracy: 0.7691 - val_loss: 0.5615 - val_accuracy: 0.7796\n",
            "Epoch 28/100\n",
            "16500/16641 [============================>.] - ETA: 0s - loss: 0.5702 - accuracy: 0.7714\n",
            "Epoch 00028: val_loss did not improve from 0.55988\n",
            "16641/16641 [==============================] - 7s 401us/sample - loss: 0.5712 - accuracy: 0.7711 - val_loss: 0.5984 - val_accuracy: 0.7585\n",
            "Epoch 29/100\n",
            "16500/16641 [============================>.] - ETA: 0s - loss: 0.5643 - accuracy: 0.7736\n",
            "Epoch 00029: val_loss improved from 0.55988 to 0.53663, saving model to ./drive/My Drive/Colab Notebooks/model/practice12.model\n",
            "INFO:tensorflow:Assets written to: ./drive/My Drive/Colab Notebooks/model/practice12.model/assets\n",
            "16641/16641 [==============================] - 9s 551us/sample - loss: 0.5641 - accuracy: 0.7735 - val_loss: 0.5366 - val_accuracy: 0.7789\n",
            "Epoch 30/100\n",
            "16500/16641 [============================>.] - ETA: 0s - loss: 0.5639 - accuracy: 0.7741\n",
            "Epoch 00030: val_loss improved from 0.53663 to 0.52612, saving model to ./drive/My Drive/Colab Notebooks/model/practice12.model\n",
            "INFO:tensorflow:Assets written to: ./drive/My Drive/Colab Notebooks/model/practice12.model/assets\n",
            "16641/16641 [==============================] - 9s 560us/sample - loss: 0.5629 - accuracy: 0.7745 - val_loss: 0.5261 - val_accuracy: 0.7895\n",
            "Epoch 31/100\n",
            "16500/16641 [============================>.] - ETA: 0s - loss: 0.5556 - accuracy: 0.7820\n",
            "Epoch 00031: val_loss did not improve from 0.52612\n",
            "16641/16641 [==============================] - 7s 407us/sample - loss: 0.5545 - accuracy: 0.7826 - val_loss: 0.5358 - val_accuracy: 0.7794\n",
            "Epoch 32/100\n",
            "16500/16641 [============================>.] - ETA: 0s - loss: 0.5495 - accuracy: 0.7813\n",
            "Epoch 00032: val_loss improved from 0.52612 to 0.51473, saving model to ./drive/My Drive/Colab Notebooks/model/practice12.model\n",
            "INFO:tensorflow:Assets written to: ./drive/My Drive/Colab Notebooks/model/practice12.model/assets\n",
            "16641/16641 [==============================] - 10s 606us/sample - loss: 0.5489 - accuracy: 0.7814 - val_loss: 0.5147 - val_accuracy: 0.7895\n",
            "Epoch 33/100\n",
            "16500/16641 [============================>.] - ETA: 0s - loss: 0.5529 - accuracy: 0.7784\n",
            "Epoch 00033: val_loss did not improve from 0.51473\n",
            "16641/16641 [==============================] - 7s 410us/sample - loss: 0.5531 - accuracy: 0.7783 - val_loss: 0.6243 - val_accuracy: 0.7527\n",
            "Epoch 34/100\n",
            "16500/16641 [============================>.] - ETA: 0s - loss: 0.5457 - accuracy: 0.7830\n",
            "Epoch 00034: val_loss improved from 0.51473 to 0.51024, saving model to ./drive/My Drive/Colab Notebooks/model/practice12.model\n",
            "INFO:tensorflow:Assets written to: ./drive/My Drive/Colab Notebooks/model/practice12.model/assets\n",
            "16641/16641 [==============================] - 10s 583us/sample - loss: 0.5449 - accuracy: 0.7833 - val_loss: 0.5102 - val_accuracy: 0.7952\n",
            "Epoch 35/100\n",
            "16500/16641 [============================>.] - ETA: 0s - loss: 0.5415 - accuracy: 0.7834\n",
            "Epoch 00035: val_loss did not improve from 0.51024\n",
            "16641/16641 [==============================] - 7s 403us/sample - loss: 0.5418 - accuracy: 0.7831 - val_loss: 0.6223 - val_accuracy: 0.7342\n",
            "Epoch 36/100\n",
            "16500/16641 [============================>.] - ETA: 0s - loss: 0.5464 - accuracy: 0.7781\n",
            "Epoch 00036: val_loss did not improve from 0.51024\n",
            "16641/16641 [==============================] - 7s 412us/sample - loss: 0.5459 - accuracy: 0.7784 - val_loss: 0.6109 - val_accuracy: 0.7618\n",
            "Epoch 37/100\n",
            "16500/16641 [============================>.] - ETA: 0s - loss: 0.5357 - accuracy: 0.7862\n",
            "Epoch 00037: val_loss did not improve from 0.51024\n",
            "16641/16641 [==============================] - 7s 405us/sample - loss: 0.5348 - accuracy: 0.7866 - val_loss: 0.5544 - val_accuracy: 0.7803\n",
            "Epoch 38/100\n",
            "16500/16641 [============================>.] - ETA: 0s - loss: 0.5320 - accuracy: 0.7892\n",
            "Epoch 00038: val_loss did not improve from 0.51024\n",
            "16641/16641 [==============================] - 7s 405us/sample - loss: 0.5315 - accuracy: 0.7896 - val_loss: 0.5360 - val_accuracy: 0.7897\n",
            "Epoch 39/100\n",
            "16500/16641 [============================>.] - ETA: 0s - loss: 0.5314 - accuracy: 0.7894\n",
            "Epoch 00039: val_loss did not improve from 0.51024\n",
            "16641/16641 [==============================] - 7s 403us/sample - loss: 0.5315 - accuracy: 0.7894 - val_loss: 0.5246 - val_accuracy: 0.7890\n",
            "Epoch 40/100\n",
            "16500/16641 [============================>.] - ETA: 0s - loss: 0.5275 - accuracy: 0.7872\n",
            "Epoch 00040: val_loss improved from 0.51024 to 0.49358, saving model to ./drive/My Drive/Colab Notebooks/model/practice12.model\n",
            "INFO:tensorflow:Assets written to: ./drive/My Drive/Colab Notebooks/model/practice12.model/assets\n",
            "16641/16641 [==============================] - 9s 556us/sample - loss: 0.5276 - accuracy: 0.7870 - val_loss: 0.4936 - val_accuracy: 0.8058\n",
            "Epoch 41/100\n",
            "16500/16641 [============================>.] - ETA: 0s - loss: 0.5190 - accuracy: 0.7908\n",
            "Epoch 00041: val_loss did not improve from 0.49358\n",
            "16641/16641 [==============================] - 7s 407us/sample - loss: 0.5197 - accuracy: 0.7909 - val_loss: 0.5220 - val_accuracy: 0.7873\n",
            "Epoch 42/100\n",
            "16500/16641 [============================>.] - ETA: 0s - loss: 0.5175 - accuracy: 0.7889\n",
            "Epoch 00042: val_loss did not improve from 0.49358\n",
            "16641/16641 [==============================] - 7s 412us/sample - loss: 0.5170 - accuracy: 0.7891 - val_loss: 0.5399 - val_accuracy: 0.7808\n",
            "Epoch 43/100\n",
            "16500/16641 [============================>.] - ETA: 0s - loss: 0.5162 - accuracy: 0.7927\n",
            "Epoch 00043: val_loss did not improve from 0.49358\n",
            "16641/16641 [==============================] - 7s 402us/sample - loss: 0.5157 - accuracy: 0.7929 - val_loss: 0.5354 - val_accuracy: 0.7844\n",
            "Epoch 44/100\n",
            "16500/16641 [============================>.] - ETA: 0s - loss: 0.5123 - accuracy: 0.7961\n",
            "Epoch 00044: val_loss did not improve from 0.49358\n",
            "16641/16641 [==============================] - 7s 407us/sample - loss: 0.5114 - accuracy: 0.7965 - val_loss: 0.6326 - val_accuracy: 0.7585\n",
            "Epoch 45/100\n",
            "16500/16641 [============================>.] - ETA: 0s - loss: 0.5070 - accuracy: 0.7952\n",
            "Epoch 00045: val_loss did not improve from 0.49358\n",
            "16641/16641 [==============================] - 7s 407us/sample - loss: 0.5062 - accuracy: 0.7955 - val_loss: 0.5310 - val_accuracy: 0.7948\n",
            "Epoch 46/100\n",
            "16500/16641 [============================>.] - ETA: 0s - loss: 0.5018 - accuracy: 0.7998\n",
            "Epoch 00046: val_loss did not improve from 0.49358\n",
            "16641/16641 [==============================] - 7s 408us/sample - loss: 0.5026 - accuracy: 0.7994 - val_loss: 0.4987 - val_accuracy: 0.7991\n",
            "Epoch 47/100\n",
            "16500/16641 [============================>.] - ETA: 0s - loss: 0.5095 - accuracy: 0.7963\n",
            "Epoch 00047: val_loss did not improve from 0.49358\n",
            "16641/16641 [==============================] - 7s 408us/sample - loss: 0.5098 - accuracy: 0.7963 - val_loss: 0.5198 - val_accuracy: 0.7851\n",
            "Epoch 48/100\n",
            "16500/16641 [============================>.] - ETA: 0s - loss: 0.4886 - accuracy: 0.8063\n",
            "Epoch 00048: val_loss did not improve from 0.49358\n",
            "16641/16641 [==============================] - 7s 407us/sample - loss: 0.4878 - accuracy: 0.8066 - val_loss: 0.4980 - val_accuracy: 0.8015\n",
            "Epoch 49/100\n",
            "16500/16641 [============================>.] - ETA: 0s - loss: 0.4997 - accuracy: 0.8030\n",
            "Epoch 00049: val_loss did not improve from 0.49358\n",
            "16641/16641 [==============================] - 7s 402us/sample - loss: 0.4989 - accuracy: 0.8034 - val_loss: 0.5432 - val_accuracy: 0.7847\n",
            "Epoch 50/100\n",
            "16500/16641 [============================>.] - ETA: 0s - loss: 0.5004 - accuracy: 0.7992\n",
            "Epoch 00050: val_loss improved from 0.49358 to 0.47299, saving model to ./drive/My Drive/Colab Notebooks/model/practice12.model\n",
            "INFO:tensorflow:Assets written to: ./drive/My Drive/Colab Notebooks/model/practice12.model/assets\n",
            "16641/16641 [==============================] - 9s 560us/sample - loss: 0.5004 - accuracy: 0.7989 - val_loss: 0.4730 - val_accuracy: 0.8080\n",
            "Epoch 51/100\n",
            "16500/16641 [============================>.] - ETA: 0s - loss: 0.4937 - accuracy: 0.8084\n",
            "Epoch 00051: val_loss did not improve from 0.47299\n",
            "16641/16641 [==============================] - 7s 412us/sample - loss: 0.4937 - accuracy: 0.8085 - val_loss: 0.4916 - val_accuracy: 0.8073\n",
            "Epoch 52/100\n",
            "16500/16641 [============================>.] - ETA: 0s - loss: 0.4887 - accuracy: 0.8049\n",
            "Epoch 00052: val_loss did not improve from 0.47299\n",
            "16641/16641 [==============================] - 7s 409us/sample - loss: 0.4894 - accuracy: 0.8049 - val_loss: 0.4872 - val_accuracy: 0.8104\n",
            "Epoch 53/100\n",
            "16500/16641 [============================>.] - ETA: 0s - loss: 0.4898 - accuracy: 0.8021\n",
            "Epoch 00053: val_loss did not improve from 0.47299\n",
            "16641/16641 [==============================] - 7s 405us/sample - loss: 0.4892 - accuracy: 0.8024 - val_loss: 0.5278 - val_accuracy: 0.7811\n",
            "Epoch 54/100\n",
            "16500/16641 [============================>.] - ETA: 0s - loss: 0.4896 - accuracy: 0.8048\n",
            "Epoch 00054: val_loss did not improve from 0.47299\n",
            "16641/16641 [==============================] - 7s 404us/sample - loss: 0.4896 - accuracy: 0.8046 - val_loss: 0.5269 - val_accuracy: 0.7803\n",
            "Epoch 55/100\n",
            "16500/16641 [============================>.] - ETA: 0s - loss: 0.4891 - accuracy: 0.8088\n",
            "Epoch 00055: val_loss did not improve from 0.47299\n",
            "16641/16641 [==============================] - 7s 402us/sample - loss: 0.4886 - accuracy: 0.8088 - val_loss: 0.5278 - val_accuracy: 0.7926\n",
            "Epoch 56/100\n",
            "16500/16641 [============================>.] - ETA: 0s - loss: 0.4818 - accuracy: 0.8066\n",
            "Epoch 00056: val_loss improved from 0.47299 to 0.46486, saving model to ./drive/My Drive/Colab Notebooks/model/practice12.model\n",
            "INFO:tensorflow:Assets written to: ./drive/My Drive/Colab Notebooks/model/practice12.model/assets\n",
            "16641/16641 [==============================] - 9s 553us/sample - loss: 0.4815 - accuracy: 0.8066 - val_loss: 0.4649 - val_accuracy: 0.8145\n",
            "Epoch 57/100\n",
            "16500/16641 [============================>.] - ETA: 0s - loss: 0.4756 - accuracy: 0.8078\n",
            "Epoch 00057: val_loss did not improve from 0.46486\n",
            "16641/16641 [==============================] - 7s 400us/sample - loss: 0.4759 - accuracy: 0.8077 - val_loss: 0.5056 - val_accuracy: 0.7964\n",
            "Epoch 58/100\n",
            "16500/16641 [============================>.] - ETA: 0s - loss: 0.4722 - accuracy: 0.8145\n",
            "Epoch 00058: val_loss did not improve from 0.46486\n",
            "16641/16641 [==============================] - 7s 403us/sample - loss: 0.4729 - accuracy: 0.8143 - val_loss: 0.4694 - val_accuracy: 0.8161\n",
            "Epoch 59/100\n",
            "16500/16641 [============================>.] - ETA: 0s - loss: 0.4750 - accuracy: 0.8095\n",
            "Epoch 00059: val_loss improved from 0.46486 to 0.46002, saving model to ./drive/My Drive/Colab Notebooks/model/practice12.model\n",
            "INFO:tensorflow:Assets written to: ./drive/My Drive/Colab Notebooks/model/practice12.model/assets\n",
            "16641/16641 [==============================] - 9s 553us/sample - loss: 0.4748 - accuracy: 0.8093 - val_loss: 0.4600 - val_accuracy: 0.8176\n",
            "Epoch 60/100\n",
            "16500/16641 [============================>.] - ETA: 0s - loss: 0.4634 - accuracy: 0.8124\n",
            "Epoch 00060: val_loss did not improve from 0.46002\n",
            "16641/16641 [==============================] - 7s 402us/sample - loss: 0.4649 - accuracy: 0.8119 - val_loss: 0.5380 - val_accuracy: 0.7914\n",
            "Epoch 61/100\n",
            "16500/16641 [============================>.] - ETA: 0s - loss: 0.4670 - accuracy: 0.8135\n",
            "Epoch 00061: val_loss did not improve from 0.46002\n",
            "16641/16641 [==============================] - 7s 403us/sample - loss: 0.4672 - accuracy: 0.8133 - val_loss: 0.4825 - val_accuracy: 0.8094\n",
            "Epoch 62/100\n",
            "16500/16641 [============================>.] - ETA: 0s - loss: 0.4649 - accuracy: 0.8147\n",
            "Epoch 00062: val_loss did not improve from 0.46002\n",
            "16641/16641 [==============================] - 7s 399us/sample - loss: 0.4656 - accuracy: 0.8146 - val_loss: 0.5059 - val_accuracy: 0.8008\n",
            "Epoch 63/100\n",
            "16500/16641 [============================>.] - ETA: 0s - loss: 0.4579 - accuracy: 0.8158\n",
            "Epoch 00063: val_loss improved from 0.46002 to 0.45824, saving model to ./drive/My Drive/Colab Notebooks/model/practice12.model\n",
            "INFO:tensorflow:Assets written to: ./drive/My Drive/Colab Notebooks/model/practice12.model/assets\n",
            "16641/16641 [==============================] - 9s 540us/sample - loss: 0.4589 - accuracy: 0.8156 - val_loss: 0.4582 - val_accuracy: 0.8188\n",
            "Epoch 64/100\n",
            "16500/16641 [============================>.] - ETA: 0s - loss: 0.4617 - accuracy: 0.8162\n",
            "Epoch 00064: val_loss did not improve from 0.45824\n",
            "16641/16641 [==============================] - 7s 401us/sample - loss: 0.4623 - accuracy: 0.8161 - val_loss: 0.4727 - val_accuracy: 0.8109\n",
            "Epoch 65/100\n",
            "16500/16641 [============================>.] - ETA: 0s - loss: 0.4584 - accuracy: 0.8167\n",
            "Epoch 00065: val_loss did not improve from 0.45824\n",
            "16641/16641 [==============================] - 7s 400us/sample - loss: 0.4581 - accuracy: 0.8168 - val_loss: 0.4790 - val_accuracy: 0.8094\n",
            "Epoch 66/100\n",
            "16500/16641 [============================>.] - ETA: 0s - loss: 0.4618 - accuracy: 0.8165\n",
            "Epoch 00066: val_loss did not improve from 0.45824\n",
            "16641/16641 [==============================] - 7s 396us/sample - loss: 0.4607 - accuracy: 0.8169 - val_loss: 0.4986 - val_accuracy: 0.7974\n",
            "Epoch 67/100\n",
            "16500/16641 [============================>.] - ETA: 0s - loss: 0.4541 - accuracy: 0.8173\n",
            "Epoch 00067: val_loss improved from 0.45824 to 0.44725, saving model to ./drive/My Drive/Colab Notebooks/model/practice12.model\n",
            "INFO:tensorflow:Assets written to: ./drive/My Drive/Colab Notebooks/model/practice12.model/assets\n",
            "16641/16641 [==============================] - 9s 542us/sample - loss: 0.4544 - accuracy: 0.8170 - val_loss: 0.4472 - val_accuracy: 0.8174\n",
            "Epoch 68/100\n",
            "16500/16641 [============================>.] - ETA: 0s - loss: 0.4560 - accuracy: 0.8175\n",
            "Epoch 00068: val_loss did not improve from 0.44725\n",
            "16641/16641 [==============================] - 7s 395us/sample - loss: 0.4557 - accuracy: 0.8178 - val_loss: 0.4673 - val_accuracy: 0.8130\n",
            "Epoch 69/100\n",
            "16500/16641 [============================>.] - ETA: 0s - loss: 0.4544 - accuracy: 0.8190\n",
            "Epoch 00069: val_loss did not improve from 0.44725\n",
            "16641/16641 [==============================] - 7s 402us/sample - loss: 0.4546 - accuracy: 0.8189 - val_loss: 0.5277 - val_accuracy: 0.7952\n",
            "Epoch 70/100\n",
            "16500/16641 [============================>.] - ETA: 0s - loss: 0.4508 - accuracy: 0.8197\n",
            "Epoch 00070: val_loss did not improve from 0.44725\n",
            "16641/16641 [==============================] - 7s 405us/sample - loss: 0.4507 - accuracy: 0.8197 - val_loss: 0.4747 - val_accuracy: 0.8121\n",
            "Epoch 71/100\n",
            "16500/16641 [============================>.] - ETA: 0s - loss: 0.4417 - accuracy: 0.8252\n",
            "Epoch 00071: val_loss did not improve from 0.44725\n",
            "16641/16641 [==============================] - 7s 394us/sample - loss: 0.4418 - accuracy: 0.8253 - val_loss: 0.4725 - val_accuracy: 0.8157\n",
            "Epoch 72/100\n",
            "16500/16641 [============================>.] - ETA: 0s - loss: 0.4457 - accuracy: 0.8230\n",
            "Epoch 00072: val_loss did not improve from 0.44725\n",
            "16641/16641 [==============================] - 7s 400us/sample - loss: 0.4459 - accuracy: 0.8230 - val_loss: 0.4541 - val_accuracy: 0.8186\n",
            "Epoch 73/100\n",
            "16500/16641 [============================>.] - ETA: 0s - loss: 0.4428 - accuracy: 0.8232\n",
            "Epoch 00073: val_loss improved from 0.44725 to 0.43122, saving model to ./drive/My Drive/Colab Notebooks/model/practice12.model\n",
            "INFO:tensorflow:Assets written to: ./drive/My Drive/Colab Notebooks/model/practice12.model/assets\n",
            "16641/16641 [==============================] - 9s 544us/sample - loss: 0.4437 - accuracy: 0.8230 - val_loss: 0.4312 - val_accuracy: 0.8315\n",
            "Epoch 74/100\n",
            "16500/16641 [============================>.] - ETA: 0s - loss: 0.4356 - accuracy: 0.8239\n",
            "Epoch 00074: val_loss did not improve from 0.43122\n",
            "16641/16641 [==============================] - 7s 401us/sample - loss: 0.4366 - accuracy: 0.8234 - val_loss: 0.4596 - val_accuracy: 0.8181\n",
            "Epoch 75/100\n",
            "16500/16641 [============================>.] - ETA: 0s - loss: 0.4371 - accuracy: 0.8244\n",
            "Epoch 00075: val_loss did not improve from 0.43122\n",
            "16641/16641 [==============================] - 7s 397us/sample - loss: 0.4373 - accuracy: 0.8245 - val_loss: 0.4586 - val_accuracy: 0.8142\n",
            "Epoch 76/100\n",
            "16500/16641 [============================>.] - ETA: 0s - loss: 0.4393 - accuracy: 0.8243\n",
            "Epoch 00076: val_loss did not improve from 0.43122\n",
            "16641/16641 [==============================] - 7s 396us/sample - loss: 0.4400 - accuracy: 0.8241 - val_loss: 0.4443 - val_accuracy: 0.8219\n",
            "Epoch 77/100\n",
            "16500/16641 [============================>.] - ETA: 0s - loss: 0.4360 - accuracy: 0.8246\n",
            "Epoch 00077: val_loss did not improve from 0.43122\n",
            "16641/16641 [==============================] - 7s 395us/sample - loss: 0.4365 - accuracy: 0.8245 - val_loss: 0.4632 - val_accuracy: 0.8128\n",
            "Epoch 78/100\n",
            "16500/16641 [============================>.] - ETA: 0s - loss: 0.4375 - accuracy: 0.8270\n",
            "Epoch 00078: val_loss did not improve from 0.43122\n",
            "16641/16641 [==============================] - 7s 394us/sample - loss: 0.4370 - accuracy: 0.8271 - val_loss: 0.4561 - val_accuracy: 0.8169\n",
            "Epoch 79/100\n",
            "16500/16641 [============================>.] - ETA: 0s - loss: 0.4386 - accuracy: 0.8221\n",
            "Epoch 00079: val_loss did not improve from 0.43122\n",
            "16641/16641 [==============================] - 7s 396us/sample - loss: 0.4382 - accuracy: 0.8223 - val_loss: 0.4823 - val_accuracy: 0.8130\n",
            "Epoch 80/100\n",
            "16500/16641 [============================>.] - ETA: 0s - loss: 0.4269 - accuracy: 0.8299\n",
            "Epoch 00080: val_loss did not improve from 0.43122\n",
            "16641/16641 [==============================] - 7s 397us/sample - loss: 0.4264 - accuracy: 0.8304 - val_loss: 0.4666 - val_accuracy: 0.8159\n",
            "Epoch 81/100\n",
            "16500/16641 [============================>.] - ETA: 0s - loss: 0.4273 - accuracy: 0.8285\n",
            "Epoch 00081: val_loss did not improve from 0.43122\n",
            "16641/16641 [==============================] - 7s 396us/sample - loss: 0.4270 - accuracy: 0.8286 - val_loss: 0.4771 - val_accuracy: 0.8068\n",
            "Epoch 82/100\n",
            "16500/16641 [============================>.] - ETA: 0s - loss: 0.4253 - accuracy: 0.8311\n",
            "Epoch 00082: val_loss did not improve from 0.43122\n",
            "16641/16641 [==============================] - 7s 398us/sample - loss: 0.4250 - accuracy: 0.8311 - val_loss: 0.4456 - val_accuracy: 0.8198\n",
            "Epoch 83/100\n",
            "16500/16641 [============================>.] - ETA: 0s - loss: 0.4247 - accuracy: 0.8293\n",
            "Epoch 00083: val_loss did not improve from 0.43122\n",
            "16641/16641 [==============================] - 7s 395us/sample - loss: 0.4239 - accuracy: 0.8298 - val_loss: 0.5175 - val_accuracy: 0.7993\n"
          ],
          "name": "stdout"
        }
      ]
    },
    {
      "cell_type": "code",
      "metadata": {
        "id": "QESwuUFPq59x",
        "colab_type": "code",
        "outputId": "0b1a5f32-71f2-4959-adc0-f840eeb4cb8f",
        "colab": {
          "base_uri": "https://localhost:8080/",
          "height": 53
        }
      },
      "source": [
        "# test 데이터의 loss, accuracy\n",
        "eval = additional_model.evaluate(X_test, y_test)\n",
        "print(f'Test loss: {eval[0]}, accuracy: {eval[1]}')"
      ],
      "execution_count": 10,
      "outputs": [
        {
          "output_type": "stream",
          "text": [
            "5201/5201 [==============================] - 2s 466us/sample - loss: 0.5019 - accuracy: 0.8102\n",
            "Test loss: 0.501913208430649, accuracy: 0.8102288246154785\n"
          ],
          "name": "stdout"
        }
      ]
    },
    {
      "cell_type": "code",
      "metadata": {
        "id": "tkcAgkfwrAds",
        "colab_type": "code",
        "outputId": "6a851724-74b0-48a5-b7ec-6ce9e46a7dbe",
        "colab": {
          "base_uri": "https://localhost:8080/",
          "height": 279
        }
      },
      "source": [
        "# train 데이터, validation 데이터의 손실 그래프\n",
        "train_loss = history.history['loss']\n",
        "val_loss = history.history['val_loss']\n",
        "x_len = range(len(train_loss))\n",
        "plt.plot(x_len, train_loss, marker='.', color='red', label='Train loss')\n",
        "plt.plot(x_len, val_loss, marker='.', color='blue', label='Val loss')\n",
        "plt.legend()\n",
        "plt.xlabel('epochs')\n",
        "plt.ylabel('loss')\n",
        "plt.show()"
      ],
      "execution_count": 11,
      "outputs": [
        {
          "output_type": "display_data",
          "data": {
            "image/png": "[encoded data removed]",
            "text/plain": [
              "<Figure size 432x288 with 1 Axes>"
            ]
          },
          "metadata": {
            "tags": []
          }
        }
      ]
    },
    {
      "cell_type": "code",
      "metadata": {
        "id": "SDdkPawXrHpB",
        "colab_type": "code",
        "outputId": "57eda083-ba51-466d-8ebc-0b9de3d33346",
        "colab": {
          "base_uri": "https://localhost:8080/",
          "height": 283
        }
      },
      "source": [
        " # train 데이터, validation 데이터의 정확도 그래프\n",
        "train_acc = history.history['accuracy']\n",
        "val_acc = history.history['val_accuracy']\n",
        "plt.plot(x_len, train_acc, marker='.', c='red', label='Train Acc.')\n",
        "plt.plot(x_len, val_acc, marker='.', c='blue', label='Val Acc.')\n",
        "plt.legend()\n",
        "plt.xlabel('epochs')\n",
        "plt.ylabel('accuracy')\n",
        "plt.show()"
      ],
      "execution_count": 13,
      "outputs": [
        {
          "output_type": "display_data",
          "data": {
            "image/png": "[encoded data removed]",
            "text/plain": [
              "<Figure size 432x288 with 1 Axes>"
            ]
          },
          "metadata": {
            "tags": []
          }
        }
      ]
    },
    {
      "cell_type": "code",
      "metadata": {
        "id": "cUlEJABlrOT5",
        "colab_type": "code",
        "colab": {}
      },
      "source": [
        "# 4. 만든 모델 불러와서 예측 후 평가\n",
        "model = load_model(model_path)"
      ],
      "execution_count": 0,
      "outputs": []
    },
    {
      "cell_type": "code",
      "metadata": {
        "id": "g8RTukXSrVaA",
        "colab_type": "code",
        "outputId": "ee29cc15-6baa-41d1-ccc0-4a2e73d654ea",
        "colab": {
          "base_uri": "https://localhost:8080/",
          "height": 125
        }
      },
      "source": [
        "predictions = model.predict(X_test)\n",
        "y_test = np.argmax(y_test, axis=1)\n",
        "y_pred = np.argmax(predictions, axis=1)\n",
        "print('* Confusion Matrix')\n",
        "print(confusion_matrix(y_test, y_pred))"
      ],
      "execution_count": 15,
      "outputs": [
        {
          "output_type": "stream",
          "text": [
            "* Confusion Matrix\n",
            "[[ 829   74   64    1   40]\n",
            " [  61  740  231    8   15]\n",
            " [  64  149  803    7   11]\n",
            " [  23   16   16 1072   24]\n",
            " [  24    2   15   14  898]]\n"
          ],
          "name": "stdout"
        }
      ]
    },
    {
      "cell_type": "code",
      "metadata": {
        "id": "1TpXFltKreCS",
        "colab_type": "code",
        "outputId": "f44cefb0-5d1c-4eba-ca64-f197c6b871a0",
        "colab": {
          "base_uri": "https://localhost:8080/",
          "height": 251
        }
      },
      "source": [
        "print('* Classification Report')\n",
        "print(classification_report(y_test, y_pred, target_names=os.listdir('/content/drive/My Drive/Final'))) # target_names=['df', 'mel', 'nv', 'tsu', 'vl']\n"
      ],
      "execution_count": 16,
      "outputs": [
        {
          "output_type": "stream",
          "text": [
            "* Classification Report\n",
            "              precision    recall  f1-score   support\n",
            "\n",
            "       nevus       0.83      0.82      0.83      1008\n",
            "          df       0.75      0.70      0.73      1055\n",
            "      eschar       0.71      0.78      0.74      1034\n",
            "          vl       0.97      0.93      0.95      1151\n",
            "         mel       0.91      0.94      0.93       953\n",
            "\n",
            "    accuracy                           0.83      5201\n",
            "   macro avg       0.84      0.83      0.83      5201\n",
            "weighted avg       0.84      0.83      0.84      5201\n",
            "\n"
          ],
          "name": "stdout"
        }
      ]
    },
    {
      "cell_type": "code",
      "metadata": {
        "id": "riNoKSKi7vaw",
        "colab_type": "code",
        "colab": {}
      },
      "source": [
        ""
      ],
      "execution_count": 0,
      "outputs": []
    }
  ]
}