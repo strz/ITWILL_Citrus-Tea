{
  "nbformat": 4,
  "nbformat_minor": 0,
  "metadata": {
    "colab": {
      "name": "GoogLeNet_1.ipynb",
      "provenance": [],
      "collapsed_sections": [],
      "machine_shape": "hm",
      "authorship_tag": "ABX9TyOupQfascSkqoYZCRVTlVWR",
      "include_colab_link": true
    },
    "kernelspec": {
      "name": "python3",
      "display_name": "Python 3"
    },
    "accelerator": "GPU"
  },
  "cells": [
    {
      "cell_type": "markdown",
      "metadata": {
        "id": "view-in-github",
        "colab_type": "text"
      },
      "source": [
        "<a href=\"https://colab.research.google.com/github/strz/ITWILL_Citrus-Tea/blob/master/GoogLeNet_1.ipynb\" target=\"_parent\"><img src=\"https://colab.research.google.com/assets/colab-badge.svg\" alt=\"Open In Colab\"/></a>"
      ]
    },
    {
      "cell_type": "markdown",
      "metadata": {
        "id": "cB4Q2KoU2t0L",
        "colab_type": "text"
      },
      "source": [
        "**파이썬 GoogLeNet을 이용한 쯔쯔가무시 등 5종 병변 분류 및 예측**\n",
        "\n",
        "2020.02.18 (화)\n",
        " - 각 클래스당 이미지를 2,000장 부풀려 클래스당 비율을 맞춤.<br>\n",
        " (xy_googlenet_1_save.npy: 2,000장 (224,224) 사용)\n",
        " - 이미지 제너레이터는 보통수준으로 함(많이 변형하지 않았음).\n",
        " - 이미지 파일크기가 250KB 보다 큰 경우, 픽셀 256 비율에 맞게 축소하고,\n",
        "   작은 경우, 픽셀 224 비율에 맞게 축소하여 부풀림.\n",
        " - 모델은 Google net 직접 함수로 구현.\n"
      ]
    },
    {
      "cell_type": "markdown",
      "metadata": {
        "id": "4SSPfpvx25C0",
        "colab_type": "text"
      },
      "source": [
        "**1. 버전 설정 및 확인**"
      ]
    },
    {
      "cell_type": "code",
      "metadata": {
        "id": "6Vn-tAZA23_z",
        "colab_type": "code",
        "colab": {}
      },
      "source": [
        "# Tensorflow 사용버전 설정\n",
        "%tensorflow_version 1.x\n",
        "\n",
        "# Tensorflow 버전과 GPU 사용 여부 확인\n",
        "import tensorflow as tf\n",
        "\n",
        "print(tf.__version__)\n",
        "print(tf.test.gpu_device_name()) "
      ],
      "execution_count": 0,
      "outputs": []
    },
    {
      "cell_type": "code",
      "metadata": {
        "id": "hS03AR5W29ah",
        "colab_type": "code",
        "colab": {}
      },
      "source": [
        "# 구글 드라이브 마운트\n",
        "from google.colab import drive\n",
        "drive.mount('/content/drive')"
      ],
      "execution_count": 0,
      "outputs": []
    },
    {
      "cell_type": "markdown",
      "metadata": {
        "id": "Pkm-P2qF3ges",
        "colab_type": "text"
      },
      "source": [
        "**2. 클래스 및 모듈 import**"
      ]
    },
    {
      "cell_type": "code",
      "metadata": {
        "id": "JwgqfQNa3gNr",
        "colab_type": "code",
        "colab": {}
      },
      "source": [
        "import os\n",
        "import numpy as np\n",
        "import matplotlib.pyplot as plt\n",
        "\n",
        "from keras.models import Model, Input\n",
        "from keras.layers import Conv2D, MaxPooling2D, Dropout, GlobalAveragePooling2D, Dense, AveragePooling2D, Flatten, Concatenate, BatchNormalization\n",
        "from keras.optimizers import SGD\n",
        "from keras.callbacks import Callback, EarlyStopping , ModelCheckpoint\n",
        "\n",
        "from keras.engine.saving import load_model\n",
        "from sklearn.metrics import confusion_matrix, classification_report\n",
        "from sklearn.model_selection import train_test_split\n",
        "\n",
        "# from image_preporcessing.mj03_2_img_generating_upgrade import img_generating_2, img_to_dataset, labeling, number_of_files"
      ],
      "execution_count": 0,
      "outputs": []
    },
    {
      "cell_type": "markdown",
      "metadata": {
        "id": "Tgg1qxC33_vS",
        "colab_type": "text"
      },
      "source": [
        "**3. 함수 정의**"
      ]
    },
    {
      "cell_type": "code",
      "metadata": {
        "id": "llDl_pdF3f_7",
        "colab_type": "code",
        "colab": {}
      },
      "source": [
        "def inception(input_tensor, filter_channels):\n",
        "    \"\"\" Inception 모듈 정의\n",
        "    :param input_tensor: (h,w,n), h와 w는 같은 값이여야함 \"\"\"\n",
        "    # 64,(96,128),(16,32),32\n",
        "    # 출력 피쳐맵의 갯수가 64, 두번째 1x1, 3x3 convolution 연산의 출력 피쳐맵의 갯수는 각각 96,128,\n",
        "    # 세번째 1x1, 5x5 convolution 연산의 출력 피쳐맵의 갯수는 각각 16,32\n",
        "    # 마지막 maxpooling 후의 1x1 convolution 연산의 출력 피쳐맵의 갯수는 32 란 의미 이다.\n",
        "    filter_1x1, filter_3x3_R, filter_3x3, filter_5x5_R, filter_5x5, pool_proj = filter_channels\n",
        "\n",
        "    branch_1 = Conv2D(filters=filter_1x1, kernel_size=(1, 1), strides=1, padding='same',\n",
        "                      activation='relu', kernel_initializer='he_normal')(input_tensor)  # He 정규분포 초기값 설정\n",
        "\n",
        "    branch_2 = Conv2D(filter_3x3_R, (1, 1), strides=1, padding='same',\n",
        "                      activation='relu', kernel_initializer='he_normal')(input_tensor)\n",
        "    branch_2 = Conv2D(filter_3x3, (3, 3), strides=1, padding='same',\n",
        "                      activation='relu', kernel_initializer='he_normal')(branch_2)\n",
        "\n",
        "    branch_3 = Conv2D(filter_5x5_R, (1, 1), strides=1, padding='same', activation='relu',\n",
        "                      kernel_initializer='he_normal')(input_tensor)\n",
        "    branch_3 = Conv2D(filter_5x5, (5, 5), strides=1, padding='same', activation='relu',\n",
        "                      kernel_initializer='he_normal')(branch_3)\n",
        "\n",
        "    branch_4 = MaxPooling2D((3, 3), strides=1, padding='same')(input_tensor)\n",
        "    branch_4 = Conv2D(pool_proj, (1, 1), strides=1, padding='same', activation='relu',\n",
        "                      kernel_initializer='he_normal')(branch_4)\n",
        "\n",
        "    DepthConcat = Concatenate()([branch_1, branch_2, branch_3, branch_4])  # channel last이므로(channel first면 1)\n",
        "\n",
        "    return DepthConcat\n",
        "\n",
        "\n",
        "\n",
        "def GoogLeNet(model_input, classes=5):\n",
        "    # classes=10에서 5로 변경, 5개 중에서 분류할 것이기 때문..\n",
        "    conv_1 = Conv2D(64, (7, 7), strides=2, padding='same', activation='relu')(model_input) # (112, 112, 64)\n",
        "    pool_1 = MaxPooling2D((3, 3), strides=2, padding='same')(conv_1) # (56, 56, 64)\n",
        "    # LRN_1 = LocalResponseNormalization()(pool_1) # (56, 56, 64) 이걸 BatchNormalization으로 대체함\n",
        "    BN_1 = BatchNormalization()(pool_1)\n",
        "\n",
        "    conv_2 = Conv2D(64, (1, 1), strides=1, padding='valid', activation='relu')(BN_1) # (56, 56, 64)\n",
        "    conv_3 = Conv2D(192, (3, 3), strides=1, padding='same', activation='relu')(conv_2) # (56, 56, 192)\n",
        "    BN_2 = BatchNormalization()(conv_3) # (56, 56, 192)\n",
        "    pool_2 = MaxPooling2D((3, 3), strides=2, padding='same')(BN_2) # (28, 28, 192)\n",
        "\n",
        "    inception_3a = inception(pool_2, [64, 96, 128, 16, 32, 32])  # (28, 28, 256)\n",
        "    inception_3b = inception(inception_3a, [128, 128, 192, 32, 96, 64])  # (28, 28, 480)\n",
        "\n",
        "    pool_3 = MaxPooling2D((3, 3), strides=2, padding='same')(inception_3b)  # (14, 14, 480)\n",
        "\n",
        "    inception_4a = inception(pool_3, [192, 96, 208, 16, 48, 64]) # (14, 14, 512)\n",
        "    inception_4b = inception(inception_4a, [160, 112, 224, 24, 64, 64]) # (14, 14, 512)\n",
        "    inception_4c = inception(inception_4b, [128, 128, 256, 24, 64, 64]) # (14, 14, 512)\n",
        "    inception_4d = inception(inception_4c, [112, 144, 288, 32, 64, 64]) # (14, 14, 528)\n",
        "    inception_4e = inception(inception_4d, [256, 160, 320, 32, 128, 128]) # (14, 14, 832)\n",
        "\n",
        "    pool_4 = MaxPooling2D((3, 3), strides=2, padding='same')(inception_4e)  # (7, 7, 832)\n",
        "\n",
        "    inception_5a = inception(pool_4, [256, 160, 320, 32, 128, 128])  # (7, 7, 832)\n",
        "    inception_5b = inception(inception_5a, [384, 192, 384, 48, 128, 128])  # (7, 7, 1024)\n",
        "\n",
        "    avg_pool = GlobalAveragePooling2D()(inception_5b)\n",
        "    dropout = Dropout(0.4)(avg_pool)\n",
        "\n",
        "    linear = Dense(512, activation='relu')(dropout) \n",
        "    model_output = Dense(classes, activation='softmax', name='main_classifier')(linear)  \n",
        "\n",
        "\n",
        "    # Auxiliary Classifier - 보조 분류기의 효과는 상대적으로 작다고 들어 빼버림..\n",
        "    auxiliary_4a = AveragePooling2D((5, 5), strides=3, padding='valid')(inception_4a)\n",
        "    auxiliary_4a = Conv2D(128, (1, 1), strides=1, padding='same', activation='relu')(auxiliary_4a)\n",
        "    auxiliary_4a = Flatten()(auxiliary_4a)\n",
        "    auxiliary_4a = Dense(1024, activation='relu')(auxiliary_4a)\n",
        "    auxiliary_4a = Dropout(0.7)(auxiliary_4a)\n",
        "    auxiliary_4a = Dense(classes, activation='softmax', name='auxiliary_4a')(auxiliary_4a)\n",
        "\n",
        "    auxiliary_4d = AveragePooling2D((5, 5), strides=3, padding='valid')(inception_4d)\n",
        "    auxiliary_4d = Conv2D(128, (1, 1), strides=1, padding='same', activation='relu')(auxiliary_4d)\n",
        "    auxiliary_4d = Flatten()(auxiliary_4d)\n",
        "    auxiliary_4d = Dense(1024, activation='relu')(auxiliary_4d)\n",
        "    auxiliary_4d = Dropout(0.7)(auxiliary_4d)\n",
        "    auxiliary_4d = Dense(classes, activation='softmax', name='auxiliary_4d')(auxiliary_4d)\n",
        "\n",
        "    model = Model(model_input, model_output)\n",
        "    # model = Model(model_input, [model_output, auxiliary_4a, auxiliary_4d])\n",
        "\n",
        "    return model"
      ],
      "execution_count": 0,
      "outputs": []
    },
    {
      "cell_type": "markdown",
      "metadata": {
        "id": "h6lhWcwS5CJU",
        "colab_type": "text"
      },
      "source": [
        "**4. dataset 불러오기 & 전처리**"
      ]
    },
    {
      "cell_type": "markdown",
      "metadata": {
        "id": "uQfMt6uP5Ej6",
        "colab_type": "text"
      },
      "source": [
        "(생략된 부분 - 이미지 부풀리는 과정)"
      ]
    },
    {
      "cell_type": "code",
      "metadata": {
        "id": "_GObi1o05DD7",
        "colab_type": "code",
        "colab": {}
      },
      "source": [
        "# np.save('./xy_googlenet_1_save.npy', xy)   # x_save.npy\n",
        "# 변환 용량이 4기가 이상이면 메모리 오류떠서 아래 프로토콜을 3에서 4로 바꾸고 변환했더니 됨.\n",
        "# format 파일 -> pickle.dump(array, fp, protocol=4, **pickle_kwargs)"
      ],
      "execution_count": 0,
      "outputs": []
    },
    {
      "cell_type": "code",
      "metadata": {
        "id": "EJbLR5aY8et1",
        "colab_type": "code",
        "colab": {}
      },
      "source": [
        "### np.save로 저장된 파일 불러오기\n",
        "X_train, X_test, y_train, y_test = np.load('./drive/My Drive/final_project/xy_googlenet_1_save.npy', allow_pickle=True)\n",
        "# xy_googlenet_1_save.npy: 2,000장씩 (224,224)\n",
        "\n",
        "# 정규화 시키기\n",
        "X_train = X_train.astype('float16') / 255\n",
        "X_test = X_test.astype('float16') / 255\n",
        "\n",
        "print(f'X_train: {X_train.shape}, y_train: {y_train.shape}')  # X_train: (9144, 224, 224, 3), y_train: (9144, 5)\n",
        "print(f'X_test: {X_test.shape}, y_test: {y_test.shape}')  # X_test: (2287, 224, 224, 3), y_test: (2287, 5)\n",
        "\n",
        "print(f'X_train: {X_train[0]}, X_test: {X_test[0]}')\n",
        "\n",
        "\n",
        "### 업그레이드할 때, 정규화 시켜서 저장해놓기 -> 시간이 너무 오래걸림.."
      ],
      "execution_count": 0,
      "outputs": []
    },
    {
      "cell_type": "markdown",
      "metadata": {
        "id": "uyH82ZrM81Iv",
        "colab_type": "text"
      },
      "source": [
        "**5. 신경망 생성**"
      ]
    },
    {
      "cell_type": "code",
      "metadata": {
        "id": "12Y7O4Kz80jG",
        "colab_type": "code",
        "colab": {}
      },
      "source": [
        "### GoogLeNet 모델 만들기 ###\n",
        "\n",
        "input_shape = (224, 224, 3)  # 이 사이즈로 미리 변환해두었음.\n",
        "model_input = Input(shape=input_shape)\n",
        "model = GoogLeNet(model_input=model_input, classes=5)  # class 5개에서 분류\n",
        "optimizer = SGD(momentum=0.9)\n",
        "\n",
        "# 계층 요약 확인\n",
        "model.summary()\n"
      ],
      "execution_count": 0,
      "outputs": []
    },
    {
      "cell_type": "code",
      "metadata": {
        "id": "WK01JUuH9A7c",
        "colab_type": "code",
        "colab": {}
      },
      "source": [
        "# 신경망 모델 컴파일\n",
        "model.compile(optimizer, loss='categorical_crossentropy', metrics=['acc'])"
      ],
      "execution_count": 0,
      "outputs": []
    },
    {
      "cell_type": "code",
      "metadata": {
        "id": "sQgwI0pl9PG-",
        "colab_type": "code",
        "colab": {}
      },
      "source": [
        "# 신경망 모델의 성능 향상이 없는 경우 중간에 epoch을 빨리 중지시키기 위해서\n",
        "early_stop = EarlyStopping(monitor='val_loss',\n",
        "                            verbose=1,\n",
        "                            patience=10)\n",
        "\n",
        "# 신경망 학습모델 파일로 저장\n",
        "model_dir = \"./model\"\n",
        "if not os.path.exists(model_dir):  \n",
        "    os.mkdir(model_dir)\n",
        "\n",
        "model_path = model_dir + '/googlenet_1.model'\n",
        "checkpoint = ModelCheckpoint(filepath=model_path, monitor='val_loss', verbose=1, save_best_only=True)\n",
        "early_stop = EarlyStopping(monitor='val_loss', patience=10)\n",
        "\n",
        "# 신경망 학습\n",
        "history = model.fit(X_train, y_train,\n",
        "                    epochs=50,         # 에폭만큼 파라미터 업데이트\n",
        "                    batch_size=100,    # 전체갯수를 batch_size로 나눈 만큼 반복\n",
        "                    callbacks=[checkpoint, early_stop],\n",
        "                    validation_split=0.2)"
      ],
      "execution_count": 0,
      "outputs": []
    },
    {
      "cell_type": "markdown",
      "metadata": {
        "id": "wguizP5r9kwK",
        "colab_type": "text"
      },
      "source": [
        "**6. 신경망 학습 및 평가**"
      ]
    },
    {
      "cell_type": "code",
      "metadata": {
        "id": "4-O-bPDK9klL",
        "colab_type": "code",
        "colab": {}
      },
      "source": [
        "# 테스트 데이터를 사용해서 신경망 모델을 평가\n",
        "# 테스트 데이터의 Loss, Accuracy\n",
        "eval = model.evaluate(X_test, y_test)\n",
        "print(f'Test loss: {eval[0]}, accuracy: {eval[1]}')\n",
        "### 1\n",
        "# Test loss: 0.567530667542056, accuracy: 0.820288587747623\n",
        "# Test loss: 0.25168529406326745, accuracy: 0.9156099694443416\n",
        "\n",
        "# 마지막 값\n",
        "# - loss: 0.1366 - acc: 0.9444 - val_loss: 0.5462 - val_acc: 0.8141\n",
        "# Test loss: 0.56544509646045, accuracy: 0.8154787932309616"
      ],
      "execution_count": 0,
      "outputs": []
    },
    {
      "cell_type": "code",
      "metadata": {
        "id": "yjaYIlvF9VB6",
        "colab_type": "code",
        "colab": {
          "base_uri": "https://localhost:8080/",
          "height": 279
        },
        "outputId": "f6c3bd94-b52b-4fdd-e0e9-2416d0cf0bf5"
      },
      "source": [
        "# 학습 데이터와 테스트 데이터의 Loss 그래프\n",
        "train_loss = history.history['loss']  # history dictionary에 저장된 'loss' 키를 갖는 value들을 가져옴\n",
        "val_loss = history.history['val_loss']\n",
        "\n",
        "x = range(len(train_loss))\n",
        "plt.plot(x, train_loss, marker='.', color='red', label='Train loss')\n",
        "plt.plot(x, val_loss, marker='.', color='blue', label='Val loss')\n",
        "plt.xlabel('epoch')\n",
        "plt.ylabel('loss')\n",
        "plt.legend()\n",
        "plt.show()"
      ],
      "execution_count": 11,
      "outputs": [
        {
          "output_type": "display_data",
          "data": {
            "image/png": "[encoded data removed]",
            "text/plain": [
              "<Figure size 432x288 with 1 Axes>"
            ]
          },
          "metadata": {
            "tags": []
          }
        }
      ]
    },
    {
      "cell_type": "code",
      "metadata": {
        "id": "QpfUuxuI9W_4",
        "colab_type": "code",
        "colab": {
          "base_uri": "https://localhost:8080/",
          "height": 279
        },
        "outputId": "4cfe1768-b2ee-4251-834d-4a6060386fa3"
      },
      "source": [
        "# 학습 데이터, 테스트 데이터의 정확도 그래프\n",
        "train_accuracy = history.history['acc']\n",
        "val_accuracy = history.history['val_acc']\n",
        "\n",
        "x = range(len(train_accuracy))\n",
        "plt.plot(x, train_accuracy, marker='.', color='red', label='Train loss')\n",
        "plt.plot(x, val_accuracy, marker='.', color='blue', label='Val loss')\n",
        "plt.xlabel('epoch')\n",
        "plt.ylabel('accuracy')\n",
        "plt.legend()\n",
        "plt.show()"
      ],
      "execution_count": 12,
      "outputs": [
        {
          "output_type": "display_data",
          "data": {
            "image/png": "[encoded data removed]",
            "text/plain": [
              "<Figure size 432x288 with 1 Axes>"
            ]
          },
          "metadata": {
            "tags": []
          }
        }
      ]
    },
    {
      "cell_type": "markdown",
      "metadata": {
        "id": "YRx9qnr19a7o",
        "colab_type": "text"
      },
      "source": [
        "**7. Confusion matrix**"
      ]
    },
    {
      "cell_type": "code",
      "metadata": {
        "id": "xf6ut4bC9bnh",
        "colab_type": "code",
        "colab": {
          "base_uri": "https://localhost:8080/",
          "height": 485
        },
        "outputId": "df2ff035-b34f-4cf1-c8e7-743455bb76a1"
      },
      "source": [
        "# # 저장한 학습모델 불러옴.\n",
        "# model = load_model('./model/.model')\n",
        "\n",
        "categories = [\"df\", \"mel\", \"nv\", \"tsu\", \"vl\"]\n",
        "\n",
        "# confusion matrix & classification report\n",
        "print(y_test)\n",
        "\n",
        "y_true = np.argmax(y_test, axis=1)   # 행 중 가장 큰값의 idx\n",
        "# (one-hot-encoding 되어있으므로 1로 표시된 값을 행에서 가장 큰값으로 출력하여 array로 만듦)\n",
        "print(y_true)\n",
        "y_pred = np.argmax(model.predict(X_test), axis=1)\n",
        "print(y_pred)\n",
        "\n",
        "cm = confusion_matrix(y_true, y_pred)\n",
        "print(cm)\n",
        "# 세로가 실제클래스, 가로가 예측클래스\n",
        "\n",
        "report = classification_report(y_true, y_pred, target_names=categories)\n",
        "print(report)\n"
      ],
      "execution_count": 13,
      "outputs": [
        {
          "output_type": "stream",
          "text": [
            "[[1 0 0 0 0]\n",
            " [0 0 0 1 0]\n",
            " [0 0 0 1 0]\n",
            " ...\n",
            " [0 1 0 0 0]\n",
            " [0 1 0 0 0]\n",
            " [0 0 1 0 0]]\n",
            "[0 3 3 ... 1 1 2]\n",
            "[0 3 3 ... 1 1 1]\n",
            "[[262  34 147   1   1]\n",
            " [  5 360  76  10   0]\n",
            " [  1 105 331   0   1]\n",
            " [  5  14   3 507   7]\n",
            " [  2   4   4   2 405]]\n",
            "              precision    recall  f1-score   support\n",
            "\n",
            "          df       0.95      0.59      0.73       445\n",
            "         mel       0.70      0.80      0.74       451\n",
            "          nv       0.59      0.76      0.66       438\n",
            "         tsu       0.97      0.95      0.96       536\n",
            "          vl       0.98      0.97      0.97       417\n",
            "\n",
            "    accuracy                           0.82      2287\n",
            "   macro avg       0.84      0.81      0.81      2287\n",
            "weighted avg       0.84      0.82      0.82      2287\n",
            "\n"
          ],
          "name": "stdout"
        }
      ]
    }
  ]
}