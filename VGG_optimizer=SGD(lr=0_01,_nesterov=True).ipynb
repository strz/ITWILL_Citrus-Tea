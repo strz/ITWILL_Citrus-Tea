{
  "nbformat": 4,
  "nbformat_minor": 0,
  "metadata": {
    "colab": {
      "name": "VGG_optimizer=SGD(lr=0.01, nesterov=True).ipynb",
      "provenance": [],
      "collapsed_sections": [],
      "authorship_tag": "ABX9TyPkW5woPGBkqb7giOGfBzUu",
      "include_colab_link": true
    },
    "kernelspec": {
      "name": "python3",
      "display_name": "Python 3"
    },
    "accelerator": "GPU"
  },
  "cells": [
    {
      "cell_type": "markdown",
      "metadata": {
        "id": "view-in-github",
        "colab_type": "text"
      },
      "source": [
        "<a href=\"https://colab.research.google.com/github/strz/ITWILL_Citrus-Tea/blob/master/VGG_optimizer%3DSGD(lr%3D0_01%2C_nesterov%3DTrue).ipynb\" target=\"_parent\"><img src=\"https://colab.research.google.com/assets/colab-badge.svg\" alt=\"Open In Colab\"/></a>"
      ]
    },
    {
      "cell_type": "markdown",
      "metadata": {
        "id": "2mWfF2vRo9EB",
        "colab_type": "text"
      },
      "source": [
        "은지의 VGG 코드\n",
        "practice10\n",
        "- pre_trained vgg16에 dropout층 추가\n",
        "- 클래스당 5,000장씩 (64,64)"
      ]
    },
    {
      "cell_type": "code",
      "metadata": {
        "id": "L9uyM13tpjde",
        "colab_type": "code",
        "colab": {
          "base_uri": "https://localhost:8080/",
          "height": 71
        },
        "outputId": "d0cb8c60-699f-49ca-a8a2-d492c3b799ac"
      },
      "source": [
        "# Tensorflow 사용버전 설정\n",
        "%tensorflow_version 2.x\n",
        "\n",
        "# Tensorflow 버전과 GPU 사용 여부 확인\n",
        "import tensorflow as tf\n",
        "\n",
        "print(tf.__version__)\n",
        "print(tf.test.gpu_device_name()) "
      ],
      "execution_count": 15,
      "outputs": [
        {
          "output_type": "stream",
          "text": [
            "TensorFlow is already loaded. Please restart the runtime to change versions.\n",
            "2.1.0\n",
            "/device:GPU:0\n"
          ],
          "name": "stdout"
        }
      ]
    },
    {
      "cell_type": "code",
      "metadata": {
        "id": "q9Vs8xdwtIDv",
        "colab_type": "code",
        "colab": {
          "base_uri": "https://localhost:8080/",
          "height": 55
        },
        "outputId": "62a04b6b-f1d8-4804-a2de-c2b53b7b5529"
      },
      "source": [
        "# 구글 드라이브 마운트\n",
        "from google.colab import drive\n",
        "drive.mount('/content/drive')"
      ],
      "execution_count": 16,
      "outputs": [
        {
          "output_type": "stream",
          "text": [
            "Drive already mounted at /content/drive; to attempt to forcibly remount, call drive.mount(\"/content/drive\", force_remount=True).\n"
          ],
          "name": "stdout"
        }
      ]
    },
    {
      "cell_type": "code",
      "metadata": {
        "id": "K6kFJCv_pDvm",
        "colab_type": "code",
        "colab": {}
      },
      "source": [
        "import os\n",
        "import numpy as np\n",
        "import matplotlib.pyplot as plt\n",
        "from tensorflow.keras.applications.vgg16 import VGG16\n",
        "from tensorflow.keras.models import Sequential\n",
        "from tensorflow.keras.layers import GlobalAveragePooling2D, Dense, Dropout\n",
        "from tensorflow.keras.optimizers import SGD\n",
        "from tensorflow.keras.callbacks import ModelCheckpoint, EarlyStopping\n",
        "from tensorflow.keras.utils import plot_model\n",
        "from tensorflow.keras.models import load_model\n",
        "from sklearn.metrics import confusion_matrix, classification_report"
      ],
      "execution_count": 0,
      "outputs": []
    },
    {
      "cell_type": "code",
      "metadata": {
        "id": "KO3YbY8dpSK3",
        "colab_type": "code",
        "colab": {
          "base_uri": "https://localhost:8080/",
          "height": 53
        },
        "outputId": "4ecab410-98c3-42a4-d3a4-df17eedaf06d"
      },
      "source": [
        "# 1. practice7으로 디렉토리 설정\n",
        "# practice7_dir = './practice7'\n",
        "\n",
        "# 2. numpy 데이터를 불러와서 shape 확인\n",
        "X_train, X_test, y_train, y_test = np.load('./drive/My Drive/final_project/practice7_data.npy', allow_pickle=True)\n",
        "print(f'X_train: {X_train.shape}, y_train: {y_train.shape}')  # X_train: (20802, 64, 64, 3), y_train: (20802, 5)\n",
        "print(f'X_test: {X_test.shape}, y_train: {y_test.shape}')  # X_test: (5201, 64, 64, 3), y_train: (5201, 5)\n",
        "\n",
        "# 3. 이미 훈련된 vgg16 모델에 globalaveragepooling2d, dense 연결해서 사용\n",
        "X_train = X_train.astype(float) / 255\n",
        "X_test = X_test.astype(float) / 255"
      ],
      "execution_count": 24,
      "outputs": [
        {
          "output_type": "stream",
          "text": [
            "X_train: (20802, 64, 64, 3), y_train: (20802, 5)\n",
            "X_test: (5201, 64, 64, 3), y_train: (5201, 5)\n"
          ],
          "name": "stdout"
        }
      ]
    },
    {
      "cell_type": "code",
      "metadata": {
        "id": "X7en6QPfpVIf",
        "colab_type": "code",
        "colab": {
          "base_uri": "https://localhost:8080/",
          "height": 1000
        },
        "outputId": "4c8400f7-8d1d-49a8-b97e-b0a5bd890d5e"
      },
      "source": [
        "pre_trained_vgg = VGG16(weights='imagenet', include_top=False, input_shape=X_train.shape[1:])\n",
        "# include_top: 네트워크의 최상단에 3개의 완전 연결 레이어를 넣을지 여부\n",
        "# input_shape: include_top이 False일 경우만 특정. 그렇지 않다면 인풋의 형태가 (224, 224, 3)이어야 함.\n",
        "pre_trained_vgg.trainable = False # 이미지넷으로 학습된 값들을 그대로 사용할 것이기 때문에\n",
        "pre_trained_vgg.summary()\n",
        "\n",
        "additional_model = Sequential()\n",
        "additional_model.add(pre_trained_vgg)\n",
        "additional_model.add(GlobalAveragePooling2D()) # pre_trained_vgg의 디폴트된 input_shape과 다른 형태를 넣었기 때문에 Flatten()대신 Global AveragePooling2D() 이용. 이 부분은 더 공부 필요\n",
        "additional_model.add(Dense(4096, activation='relu'))\n",
        "additional_model.add(Dropout(0.5))\n",
        "additional_model.add(Dense(4096, activation='relu'))\n",
        "additional_model.add(Dropout(0.5))\n",
        "additional_model.add(Dense(1000, activation='relu'))\n",
        "additional_model.add(Dense(5, activation='softmax'))\n",
        "additional_model.summary()\n",
        "plot_model(additional_model, to_file='practice10.png')"
      ],
      "execution_count": 25,
      "outputs": [
        {
          "output_type": "stream",
          "text": [
            "Downloading data from https://github.com/fchollet/deep-learning-models/releases/download/v0.1/vgg16_weights_tf_dim_ordering_tf_kernels_notop.h5\n",
            "58892288/58889256 [==============================] - 4s 0us/step\n",
            "Model: \"vgg16\"\n",
            "_________________________________________________________________\n",
            "Layer (type)                 Output Shape              Param #   \n",
            "=================================================================\n",
            "input_1 (InputLayer)         [(None, 64, 64, 3)]       0         \n",
            "_________________________________________________________________\n",
            "block1_conv1 (Conv2D)        (None, 64, 64, 64)        1792      \n",
            "_________________________________________________________________\n",
            "block1_conv2 (Conv2D)        (None, 64, 64, 64)        36928     \n",
            "_________________________________________________________________\n",
            "block1_pool (MaxPooling2D)   (None, 32, 32, 64)        0         \n",
            "_________________________________________________________________\n",
            "block2_conv1 (Conv2D)        (None, 32, 32, 128)       73856     \n",
            "_________________________________________________________________\n",
            "block2_conv2 (Conv2D)        (None, 32, 32, 128)       147584    \n",
            "_________________________________________________________________\n",
            "block2_pool (MaxPooling2D)   (None, 16, 16, 128)       0         \n",
            "_________________________________________________________________\n",
            "block3_conv1 (Conv2D)        (None, 16, 16, 256)       295168    \n",
            "_________________________________________________________________\n",
            "block3_conv2 (Conv2D)        (None, 16, 16, 256)       590080    \n",
            "_________________________________________________________________\n",
            "block3_conv3 (Conv2D)        (None, 16, 16, 256)       590080    \n",
            "_________________________________________________________________\n",
            "block3_pool (MaxPooling2D)   (None, 8, 8, 256)         0         \n",
            "_________________________________________________________________\n",
            "block4_conv1 (Conv2D)        (None, 8, 8, 512)         1180160   \n",
            "_________________________________________________________________\n",
            "block4_conv2 (Conv2D)        (None, 8, 8, 512)         2359808   \n",
            "_________________________________________________________________\n",
            "block4_conv3 (Conv2D)        (None, 8, 8, 512)         2359808   \n",
            "_________________________________________________________________\n",
            "block4_pool (MaxPooling2D)   (None, 4, 4, 512)         0         \n",
            "_________________________________________________________________\n",
            "block5_conv1 (Conv2D)        (None, 4, 4, 512)         2359808   \n",
            "_________________________________________________________________\n",
            "block5_conv2 (Conv2D)        (None, 4, 4, 512)         2359808   \n",
            "_________________________________________________________________\n",
            "block5_conv3 (Conv2D)        (None, 4, 4, 512)         2359808   \n",
            "_________________________________________________________________\n",
            "block5_pool (MaxPooling2D)   (None, 2, 2, 512)         0         \n",
            "=================================================================\n",
            "Total params: 14,714,688\n",
            "Trainable params: 0\n",
            "Non-trainable params: 14,714,688\n",
            "_________________________________________________________________\n",
            "Model: \"sequential\"\n",
            "_________________________________________________________________\n",
            "Layer (type)                 Output Shape              Param #   \n",
            "=================================================================\n",
            "vgg16 (Model)                (None, 2, 2, 512)         14714688  \n",
            "_________________________________________________________________\n",
            "global_average_pooling2d (Gl (None, 512)               0         \n",
            "_________________________________________________________________\n",
            "dense (Dense)                (None, 4096)              2101248   \n",
            "_________________________________________________________________\n",
            "dropout (Dropout)            (None, 4096)              0         \n",
            "_________________________________________________________________\n",
            "dense_1 (Dense)              (None, 4096)              16781312  \n",
            "_________________________________________________________________\n",
            "dropout_1 (Dropout)          (None, 4096)              0         \n",
            "_________________________________________________________________\n",
            "dense_2 (Dense)              (None, 1000)              4097000   \n",
            "_________________________________________________________________\n",
            "dense_3 (Dense)              (None, 5)                 5005      \n",
            "=================================================================\n",
            "Total params: 37,699,253\n",
            "Trainable params: 22,984,565\n",
            "Non-trainable params: 14,714,688\n",
            "_________________________________________________________________\n"
          ],
          "name": "stdout"
        },
        {
          "output_type": "execute_result",
          "data": {
            "image/png": "[encoded data removed]",
            "text/plain": [
              "<IPython.core.display.Image object>"
            ]
          },
          "metadata": {
            "tags": []
          },
          "execution_count": 25
        }
      ]
    },
    {
      "cell_type": "code",
      "metadata": {
        "id": "B_Vl4tDkqCcG",
        "colab_type": "code",
        "colab": {
          "base_uri": "https://localhost:8080/",
          "height": 1000
        },
        "outputId": "9231793d-1af2-4ebe-d0c2-31678152394e"
      },
      "source": [
        "# 컴파일\n",
        "additional_model.compile(loss='categorical_crossentropy', optimizer=SGD(lr=0.01, nesterov=True), metrics=['accuracy']) # 'sgd'\n",
        "\n",
        "model_dir = \"./drive/My Drive/final_project/\"\n",
        "model_path = model_dir + 'practice10.model'\n",
        "checkpoint = ModelCheckpoint(filepath=model_path, monitor='val_loss', verbose=1, save_best_only=True)\n",
        "early_stop = EarlyStopping(monitor='val_loss', patience=10)\n",
        "\n",
        "# 신경망 VGG 모델 훈련\n",
        "history = additional_model.fit(X_train, y_train, batch_size=200, epochs=100, callbacks=[checkpoint, early_stop],\n",
        "                               validation_split=0.2)\n",
        "# Train on 16641 samples, validate on 4161 samples"
      ],
      "execution_count": 28,
      "outputs": [
        {
          "output_type": "stream",
          "text": [
            "Train on 16641 samples, validate on 4161 samples\n",
            "Epoch 1/100\n",
            "16600/16641 [============================>.] - ETA: 0s - loss: 1.5587 - accuracy: 0.2935\n",
            "Epoch 00001: val_loss improved from inf to 1.45508, saving model to ./drive/My Drive/final_project/practice10.model\n",
            "WARNING:tensorflow:From /tensorflow-2.1.0/python3.6/tensorflow_core/python/ops/resource_variable_ops.py:1786: calling BaseResourceVariable.__init__ (from tensorflow.python.ops.resource_variable_ops) with constraint is deprecated and will be removed in a future version.\n",
            "Instructions for updating:\n",
            "If using Keras pass *_constraint arguments to layers.\n",
            "INFO:tensorflow:Assets written to: ./drive/My Drive/final_project/practice10.model/assets\n",
            "16641/16641 [==============================] - 16s 976us/sample - loss: 1.5585 - accuracy: 0.2937 - val_loss: 1.4551 - val_accuracy: 0.4302\n",
            "Epoch 2/100\n",
            "16600/16641 [============================>.] - ETA: 0s - loss: 1.4240 - accuracy: 0.4167\n",
            "Epoch 00002: val_loss improved from 1.45508 to 1.29306, saving model to ./drive/My Drive/final_project/practice10.model\n",
            "INFO:tensorflow:Assets written to: ./drive/My Drive/final_project/practice10.model/assets\n",
            "16641/16641 [==============================] - 8s 503us/sample - loss: 1.4239 - accuracy: 0.4166 - val_loss: 1.2931 - val_accuracy: 0.5470\n",
            "Epoch 3/100\n",
            "16600/16641 [============================>.] - ETA: 0s - loss: 1.3150 - accuracy: 0.4802\n",
            "Epoch 00003: val_loss improved from 1.29306 to 1.20010, saving model to ./drive/My Drive/final_project/practice10.model\n",
            "INFO:tensorflow:Assets written to: ./drive/My Drive/final_project/practice10.model/assets\n",
            "16641/16641 [==============================] - 8s 465us/sample - loss: 1.3149 - accuracy: 0.4804 - val_loss: 1.2001 - val_accuracy: 0.5419\n",
            "Epoch 4/100\n",
            "16600/16641 [============================>.] - ETA: 0s - loss: 1.2279 - accuracy: 0.5147\n",
            "Epoch 00004: val_loss improved from 1.20010 to 1.13942, saving model to ./drive/My Drive/final_project/practice10.model\n",
            "INFO:tensorflow:Assets written to: ./drive/My Drive/final_project/practice10.model/assets\n",
            "16641/16641 [==============================] - 8s 469us/sample - loss: 1.2282 - accuracy: 0.5146 - val_loss: 1.1394 - val_accuracy: 0.5669\n",
            "Epoch 5/100\n",
            "16600/16641 [============================>.] - ETA: 0s - loss: 1.1584 - accuracy: 0.5489\n",
            "Epoch 00005: val_loss improved from 1.13942 to 1.10937, saving model to ./drive/My Drive/final_project/practice10.model\n",
            "INFO:tensorflow:Assets written to: ./drive/My Drive/final_project/practice10.model/assets\n",
            "16641/16641 [==============================] - 8s 469us/sample - loss: 1.1585 - accuracy: 0.5489 - val_loss: 1.1094 - val_accuracy: 0.5523\n",
            "Epoch 6/100\n",
            "16600/16641 [============================>.] - ETA: 0s - loss: 1.1023 - accuracy: 0.5704\n",
            "Epoch 00006: val_loss improved from 1.10937 to 1.02436, saving model to ./drive/My Drive/final_project/practice10.model\n",
            "INFO:tensorflow:Assets written to: ./drive/My Drive/final_project/practice10.model/assets\n",
            "16641/16641 [==============================] - 8s 465us/sample - loss: 1.1025 - accuracy: 0.5704 - val_loss: 1.0244 - val_accuracy: 0.5907\n",
            "Epoch 7/100\n",
            "16600/16641 [============================>.] - ETA: 0s - loss: 1.0553 - accuracy: 0.5907\n",
            "Epoch 00007: val_loss improved from 1.02436 to 0.96865, saving model to ./drive/My Drive/final_project/practice10.model\n",
            "INFO:tensorflow:Assets written to: ./drive/My Drive/final_project/practice10.model/assets\n",
            "16641/16641 [==============================] - 8s 476us/sample - loss: 1.0551 - accuracy: 0.5908 - val_loss: 0.9687 - val_accuracy: 0.6253\n",
            "Epoch 8/100\n",
            "16600/16641 [============================>.] - ETA: 0s - loss: 1.0124 - accuracy: 0.6031\n",
            "Epoch 00008: val_loss improved from 0.96865 to 0.94829, saving model to ./drive/My Drive/final_project/practice10.model\n",
            "INFO:tensorflow:Assets written to: ./drive/My Drive/final_project/practice10.model/assets\n",
            "16641/16641 [==============================] - 8s 468us/sample - loss: 1.0122 - accuracy: 0.6030 - val_loss: 0.9483 - val_accuracy: 0.6184\n",
            "Epoch 9/100\n",
            "16600/16641 [============================>.] - ETA: 0s - loss: 0.9758 - accuracy: 0.6201\n",
            "Epoch 00009: val_loss improved from 0.94829 to 0.93930, saving model to ./drive/My Drive/final_project/practice10.model\n",
            "INFO:tensorflow:Assets written to: ./drive/My Drive/final_project/practice10.model/assets\n",
            "16641/16641 [==============================] - 8s 500us/sample - loss: 0.9754 - accuracy: 0.6200 - val_loss: 0.9393 - val_accuracy: 0.6200\n",
            "Epoch 10/100\n",
            "16600/16641 [============================>.] - ETA: 0s - loss: 0.9402 - accuracy: 0.6287\n",
            "Epoch 00010: val_loss improved from 0.93930 to 0.90675, saving model to ./drive/My Drive/final_project/practice10.model\n",
            "INFO:tensorflow:Assets written to: ./drive/My Drive/final_project/practice10.model/assets\n",
            "16641/16641 [==============================] - 8s 476us/sample - loss: 0.9402 - accuracy: 0.6286 - val_loss: 0.9068 - val_accuracy: 0.6398\n",
            "Epoch 11/100\n",
            "16600/16641 [============================>.] - ETA: 0s - loss: 0.9124 - accuracy: 0.6446\n",
            "Epoch 00011: val_loss improved from 0.90675 to 0.88355, saving model to ./drive/My Drive/final_project/practice10.model\n",
            "INFO:tensorflow:Assets written to: ./drive/My Drive/final_project/practice10.model/assets\n",
            "16641/16641 [==============================] - 11s 673us/sample - loss: 0.9126 - accuracy: 0.6441 - val_loss: 0.8835 - val_accuracy: 0.6462\n",
            "Epoch 12/100\n",
            "16600/16641 [============================>.] - ETA: 0s - loss: 0.8913 - accuracy: 0.6483\n",
            "Epoch 00012: val_loss improved from 0.88355 to 0.85965, saving model to ./drive/My Drive/final_project/practice10.model\n",
            "INFO:tensorflow:Assets written to: ./drive/My Drive/final_project/practice10.model/assets\n",
            "16641/16641 [==============================] - 9s 529us/sample - loss: 0.8917 - accuracy: 0.6483 - val_loss: 0.8596 - val_accuracy: 0.6575\n",
            "Epoch 13/100\n",
            "16600/16641 [============================>.] - ETA: 0s - loss: 0.8725 - accuracy: 0.6538\n",
            "Epoch 00013: val_loss improved from 0.85965 to 0.82380, saving model to ./drive/My Drive/final_project/practice10.model\n",
            "INFO:tensorflow:Assets written to: ./drive/My Drive/final_project/practice10.model/assets\n",
            "16641/16641 [==============================] - 8s 484us/sample - loss: 0.8726 - accuracy: 0.6536 - val_loss: 0.8238 - val_accuracy: 0.6696\n",
            "Epoch 14/100\n",
            "16600/16641 [============================>.] - ETA: 0s - loss: 0.8528 - accuracy: 0.6646\n",
            "Epoch 00014: val_loss did not improve from 0.82380\n",
            "16641/16641 [==============================] - 6s 343us/sample - loss: 0.8526 - accuracy: 0.6646 - val_loss: 0.8437 - val_accuracy: 0.6671\n",
            "Epoch 15/100\n",
            "16600/16641 [============================>.] - ETA: 0s - loss: 0.8328 - accuracy: 0.6702\n",
            "Epoch 00015: val_loss improved from 0.82380 to 0.81432, saving model to ./drive/My Drive/final_project/practice10.model\n",
            "INFO:tensorflow:Assets written to: ./drive/My Drive/final_project/practice10.model/assets\n",
            "16641/16641 [==============================] - 8s 475us/sample - loss: 0.8323 - accuracy: 0.6704 - val_loss: 0.8143 - val_accuracy: 0.6674\n",
            "Epoch 16/100\n",
            "16600/16641 [============================>.] - ETA: 0s - loss: 0.8221 - accuracy: 0.6771\n",
            "Epoch 00016: val_loss did not improve from 0.81432\n",
            "16641/16641 [==============================] - 6s 339us/sample - loss: 0.8216 - accuracy: 0.6772 - val_loss: 0.8282 - val_accuracy: 0.6777\n",
            "Epoch 17/100\n",
            "16600/16641 [============================>.] - ETA: 0s - loss: 0.8104 - accuracy: 0.6785\n",
            "Epoch 00017: val_loss improved from 0.81432 to 0.79597, saving model to ./drive/My Drive/final_project/practice10.model\n",
            "INFO:tensorflow:Assets written to: ./drive/My Drive/final_project/practice10.model/assets\n",
            "16641/16641 [==============================] - 8s 474us/sample - loss: 0.8108 - accuracy: 0.6784 - val_loss: 0.7960 - val_accuracy: 0.6914\n",
            "Epoch 18/100\n",
            "16600/16641 [============================>.] - ETA: 0s - loss: 0.7981 - accuracy: 0.6852\n",
            "Epoch 00018: val_loss did not improve from 0.79597\n",
            "16641/16641 [==============================] - 6s 339us/sample - loss: 0.7986 - accuracy: 0.6850 - val_loss: 1.0012 - val_accuracy: 0.6174\n",
            "Epoch 19/100\n",
            "16600/16641 [============================>.] - ETA: 0s - loss: 0.7890 - accuracy: 0.6921\n",
            "Epoch 00019: val_loss improved from 0.79597 to 0.76527, saving model to ./drive/My Drive/final_project/practice10.model\n",
            "INFO:tensorflow:Assets written to: ./drive/My Drive/final_project/practice10.model/assets\n",
            "16641/16641 [==============================] - 8s 471us/sample - loss: 0.7895 - accuracy: 0.6920 - val_loss: 0.7653 - val_accuracy: 0.6941\n",
            "Epoch 20/100\n",
            "16600/16641 [============================>.] - ETA: 0s - loss: 0.7712 - accuracy: 0.6950\n",
            "Epoch 00020: val_loss did not improve from 0.76527\n",
            "16641/16641 [==============================] - 6s 340us/sample - loss: 0.7718 - accuracy: 0.6948 - val_loss: 0.8076 - val_accuracy: 0.6823\n",
            "Epoch 21/100\n",
            "16600/16641 [============================>.] - ETA: 0s - loss: 0.7682 - accuracy: 0.6975\n",
            "Epoch 00021: val_loss improved from 0.76527 to 0.74169, saving model to ./drive/My Drive/final_project/practice10.model\n",
            "INFO:tensorflow:Assets written to: ./drive/My Drive/final_project/practice10.model/assets\n",
            "16641/16641 [==============================] - 8s 469us/sample - loss: 0.7682 - accuracy: 0.6975 - val_loss: 0.7417 - val_accuracy: 0.7051\n",
            "Epoch 22/100\n",
            "16600/16641 [============================>.] - ETA: 0s - loss: 0.7565 - accuracy: 0.7018\n",
            "Epoch 00022: val_loss improved from 0.74169 to 0.72175, saving model to ./drive/My Drive/final_project/practice10.model\n",
            "INFO:tensorflow:Assets written to: ./drive/My Drive/final_project/practice10.model/assets\n",
            "16641/16641 [==============================] - 8s 477us/sample - loss: 0.7562 - accuracy: 0.7019 - val_loss: 0.7218 - val_accuracy: 0.7104\n",
            "Epoch 23/100\n",
            "16600/16641 [============================>.] - ETA: 0s - loss: 0.7514 - accuracy: 0.7064\n",
            "Epoch 00023: val_loss improved from 0.72175 to 0.72057, saving model to ./drive/My Drive/final_project/practice10.model\n",
            "INFO:tensorflow:Assets written to: ./drive/My Drive/final_project/practice10.model/assets\n",
            "16641/16641 [==============================] - 8s 473us/sample - loss: 0.7512 - accuracy: 0.7063 - val_loss: 0.7206 - val_accuracy: 0.7140\n",
            "Epoch 24/100\n",
            "16600/16641 [============================>.] - ETA: 0s - loss: 0.7408 - accuracy: 0.7116\n",
            "Epoch 00024: val_loss improved from 0.72057 to 0.71492, saving model to ./drive/My Drive/final_project/practice10.model\n",
            "INFO:tensorflow:Assets written to: ./drive/My Drive/final_project/practice10.model/assets\n",
            "16641/16641 [==============================] - 8s 485us/sample - loss: 0.7410 - accuracy: 0.7117 - val_loss: 0.7149 - val_accuracy: 0.7138\n",
            "Epoch 25/100\n",
            "16600/16641 [============================>.] - ETA: 0s - loss: 0.7333 - accuracy: 0.7114\n",
            "Epoch 00025: val_loss did not improve from 0.71492\n",
            "16641/16641 [==============================] - 6s 343us/sample - loss: 0.7339 - accuracy: 0.7110 - val_loss: 0.8876 - val_accuracy: 0.6537\n",
            "Epoch 26/100\n",
            "16600/16641 [============================>.] - ETA: 0s - loss: 0.7253 - accuracy: 0.7175\n",
            "Epoch 00026: val_loss improved from 0.71492 to 0.70881, saving model to ./drive/My Drive/final_project/practice10.model\n",
            "INFO:tensorflow:Assets written to: ./drive/My Drive/final_project/practice10.model/assets\n",
            "16641/16641 [==============================] - 8s 500us/sample - loss: 0.7253 - accuracy: 0.7173 - val_loss: 0.7088 - val_accuracy: 0.7164\n",
            "Epoch 27/100\n",
            "16600/16641 [============================>.] - ETA: 0s - loss: 0.7151 - accuracy: 0.7187\n",
            "Epoch 00027: val_loss did not improve from 0.70881\n",
            "16641/16641 [==============================] - 6s 339us/sample - loss: 0.7157 - accuracy: 0.7186 - val_loss: 0.7136 - val_accuracy: 0.7150\n",
            "Epoch 28/100\n",
            "16600/16641 [============================>.] - ETA: 0s - loss: 0.7158 - accuracy: 0.7187\n",
            "Epoch 00028: val_loss did not improve from 0.70881\n",
            "16641/16641 [==============================] - 6s 344us/sample - loss: 0.7161 - accuracy: 0.7187 - val_loss: 0.8178 - val_accuracy: 0.6897\n",
            "Epoch 29/100\n",
            "16600/16641 [============================>.] - ETA: 0s - loss: 0.7092 - accuracy: 0.7190\n",
            "Epoch 00029: val_loss did not improve from 0.70881\n",
            "16641/16641 [==============================] - 6s 340us/sample - loss: 0.7094 - accuracy: 0.7191 - val_loss: 0.7175 - val_accuracy: 0.7152\n",
            "Epoch 30/100\n",
            "16600/16641 [============================>.] - ETA: 0s - loss: 0.6980 - accuracy: 0.7262\n",
            "Epoch 00030: val_loss improved from 0.70881 to 0.69418, saving model to ./drive/My Drive/final_project/practice10.model\n",
            "INFO:tensorflow:Assets written to: ./drive/My Drive/final_project/practice10.model/assets\n",
            "16641/16641 [==============================] - 8s 459us/sample - loss: 0.6982 - accuracy: 0.7260 - val_loss: 0.6942 - val_accuracy: 0.7246\n",
            "Epoch 31/100\n",
            "16600/16641 [============================>.] - ETA: 0s - loss: 0.6981 - accuracy: 0.7270\n",
            "Epoch 00031: val_loss did not improve from 0.69418\n",
            "16641/16641 [==============================] - 6s 344us/sample - loss: 0.6980 - accuracy: 0.7270 - val_loss: 0.7164 - val_accuracy: 0.7186\n",
            "Epoch 32/100\n",
            "16600/16641 [============================>.] - ETA: 0s - loss: 0.6911 - accuracy: 0.7269\n",
            "Epoch 00032: val_loss did not improve from 0.69418\n",
            "16641/16641 [==============================] - 6s 339us/sample - loss: 0.6908 - accuracy: 0.7270 - val_loss: 0.7222 - val_accuracy: 0.7215\n",
            "Epoch 33/100\n",
            "16600/16641 [============================>.] - ETA: 0s - loss: 0.6911 - accuracy: 0.7286\n",
            "Epoch 00033: val_loss improved from 0.69418 to 0.65667, saving model to ./drive/My Drive/final_project/practice10.model\n",
            "INFO:tensorflow:Assets written to: ./drive/My Drive/final_project/practice10.model/assets\n",
            "16641/16641 [==============================] - 8s 509us/sample - loss: 0.6912 - accuracy: 0.7285 - val_loss: 0.6567 - val_accuracy: 0.7409\n",
            "Epoch 34/100\n",
            "16600/16641 [============================>.] - ETA: 0s - loss: 0.6737 - accuracy: 0.7360\n",
            "Epoch 00034: val_loss did not improve from 0.65667\n",
            "16641/16641 [==============================] - 6s 343us/sample - loss: 0.6736 - accuracy: 0.7360 - val_loss: 0.7984 - val_accuracy: 0.6837\n",
            "Epoch 35/100\n",
            "16600/16641 [============================>.] - ETA: 0s - loss: 0.6746 - accuracy: 0.7339\n",
            "Epoch 00035: val_loss did not improve from 0.65667\n",
            "16641/16641 [==============================] - 6s 339us/sample - loss: 0.6748 - accuracy: 0.7340 - val_loss: 0.6569 - val_accuracy: 0.7328\n",
            "Epoch 36/100\n",
            "16600/16641 [============================>.] - ETA: 0s - loss: 0.6695 - accuracy: 0.7384\n",
            "Epoch 00036: val_loss did not improve from 0.65667\n",
            "16641/16641 [==============================] - 6s 340us/sample - loss: 0.6696 - accuracy: 0.7382 - val_loss: 0.7997 - val_accuracy: 0.6837\n",
            "Epoch 37/100\n",
            "16600/16641 [============================>.] - ETA: 0s - loss: 0.6695 - accuracy: 0.7359\n",
            "Epoch 00037: val_loss did not improve from 0.65667\n",
            "16641/16641 [==============================] - 6s 338us/sample - loss: 0.6695 - accuracy: 0.7361 - val_loss: 0.6830 - val_accuracy: 0.7318\n",
            "Epoch 38/100\n",
            "16600/16641 [============================>.] - ETA: 0s - loss: 0.6669 - accuracy: 0.7397\n",
            "Epoch 00038: val_loss did not improve from 0.65667\n",
            "16641/16641 [==============================] - 6s 336us/sample - loss: 0.6670 - accuracy: 0.7397 - val_loss: 0.6582 - val_accuracy: 0.7392\n",
            "Epoch 39/100\n",
            "16600/16641 [============================>.] - ETA: 0s - loss: 0.6548 - accuracy: 0.7445\n",
            "Epoch 00039: val_loss did not improve from 0.65667\n",
            "16641/16641 [==============================] - 6s 338us/sample - loss: 0.6545 - accuracy: 0.7445 - val_loss: 0.7444 - val_accuracy: 0.7051\n",
            "Epoch 40/100\n",
            "16600/16641 [============================>.] - ETA: 0s - loss: 0.6549 - accuracy: 0.7410\n",
            "Epoch 00040: val_loss did not improve from 0.65667\n",
            "16641/16641 [==============================] - 6s 340us/sample - loss: 0.6550 - accuracy: 0.7409 - val_loss: 0.7621 - val_accuracy: 0.7022\n",
            "Epoch 41/100\n",
            "16600/16641 [============================>.] - ETA: 0s - loss: 0.6524 - accuracy: 0.7436\n",
            "Epoch 00041: val_loss improved from 0.65667 to 0.63509, saving model to ./drive/My Drive/final_project/practice10.model\n",
            "INFO:tensorflow:Assets written to: ./drive/My Drive/final_project/practice10.model/assets\n",
            "16641/16641 [==============================] - 8s 463us/sample - loss: 0.6522 - accuracy: 0.7437 - val_loss: 0.6351 - val_accuracy: 0.7501\n",
            "Epoch 42/100\n",
            "16600/16641 [============================>.] - ETA: 0s - loss: 0.6406 - accuracy: 0.7481\n",
            "Epoch 00042: val_loss did not improve from 0.63509\n",
            "16641/16641 [==============================] - 6s 337us/sample - loss: 0.6402 - accuracy: 0.7484 - val_loss: 0.6690 - val_accuracy: 0.7301\n",
            "Epoch 43/100\n",
            "16600/16641 [============================>.] - ETA: 0s - loss: 0.6372 - accuracy: 0.7479\n",
            "Epoch 00043: val_loss did not improve from 0.63509\n",
            "16641/16641 [==============================] - 6s 341us/sample - loss: 0.6373 - accuracy: 0.7480 - val_loss: 0.7269 - val_accuracy: 0.7104\n",
            "Epoch 44/100\n",
            "16600/16641 [============================>.] - ETA: 0s - loss: 0.6387 - accuracy: 0.7504\n",
            "Epoch 00044: val_loss did not improve from 0.63509\n",
            "16641/16641 [==============================] - 6s 344us/sample - loss: 0.6389 - accuracy: 0.7503 - val_loss: 0.7380 - val_accuracy: 0.6994\n",
            "Epoch 45/100\n",
            "16600/16641 [============================>.] - ETA: 0s - loss: 0.6282 - accuracy: 0.7520\n",
            "Epoch 00045: val_loss did not improve from 0.63509\n",
            "16641/16641 [==============================] - 6s 339us/sample - loss: 0.6282 - accuracy: 0.7519 - val_loss: 0.7926 - val_accuracy: 0.6698\n",
            "Epoch 46/100\n",
            "16600/16641 [============================>.] - ETA: 0s - loss: 0.6323 - accuracy: 0.7513\n",
            "Epoch 00046: val_loss improved from 0.63509 to 0.62416, saving model to ./drive/My Drive/final_project/practice10.model\n",
            "INFO:tensorflow:Assets written to: ./drive/My Drive/final_project/practice10.model/assets\n",
            "16641/16641 [==============================] - 8s 505us/sample - loss: 0.6320 - accuracy: 0.7515 - val_loss: 0.6242 - val_accuracy: 0.7582\n",
            "Epoch 47/100\n",
            "16600/16641 [============================>.] - ETA: 0s - loss: 0.6310 - accuracy: 0.7535\n",
            "Epoch 00047: val_loss improved from 0.62416 to 0.61844, saving model to ./drive/My Drive/final_project/practice10.model\n",
            "INFO:tensorflow:Assets written to: ./drive/My Drive/final_project/practice10.model/assets\n",
            "16641/16641 [==============================] - 8s 462us/sample - loss: 0.6313 - accuracy: 0.7534 - val_loss: 0.6184 - val_accuracy: 0.7575\n",
            "Epoch 48/100\n",
            "16600/16641 [============================>.] - ETA: 0s - loss: 0.6126 - accuracy: 0.7600\n",
            "Epoch 00048: val_loss improved from 0.61844 to 0.61136, saving model to ./drive/My Drive/final_project/practice10.model\n",
            "INFO:tensorflow:Assets written to: ./drive/My Drive/final_project/practice10.model/assets\n",
            "16641/16641 [==============================] - 8s 498us/sample - loss: 0.6122 - accuracy: 0.7602 - val_loss: 0.6114 - val_accuracy: 0.7587\n",
            "Epoch 49/100\n",
            "16600/16641 [============================>.] - ETA: 0s - loss: 0.6144 - accuracy: 0.7587\n",
            "Epoch 00049: val_loss did not improve from 0.61136\n",
            "16641/16641 [==============================] - 6s 345us/sample - loss: 0.6141 - accuracy: 0.7589 - val_loss: 0.6376 - val_accuracy: 0.7505\n",
            "Epoch 50/100\n",
            "16600/16641 [============================>.] - ETA: 0s - loss: 0.6088 - accuracy: 0.7585\n",
            "Epoch 00050: val_loss did not improve from 0.61136\n",
            "16641/16641 [==============================] - 6s 347us/sample - loss: 0.6087 - accuracy: 0.7585 - val_loss: 0.6142 - val_accuracy: 0.7621\n",
            "Epoch 51/100\n",
            "16600/16641 [============================>.] - ETA: 0s - loss: 0.6055 - accuracy: 0.7633\n",
            "Epoch 00051: val_loss did not improve from 0.61136\n",
            "16641/16641 [==============================] - 6s 341us/sample - loss: 0.6055 - accuracy: 0.7633 - val_loss: 0.6926 - val_accuracy: 0.7222\n",
            "Epoch 52/100\n",
            "16600/16641 [============================>.] - ETA: 0s - loss: 0.6028 - accuracy: 0.7638\n",
            "Epoch 00052: val_loss did not improve from 0.61136\n",
            "16641/16641 [==============================] - 6s 341us/sample - loss: 0.6025 - accuracy: 0.7640 - val_loss: 0.6230 - val_accuracy: 0.7486\n",
            "Epoch 53/100\n",
            "16600/16641 [============================>.] - ETA: 0s - loss: 0.6043 - accuracy: 0.7658\n",
            "Epoch 00053: val_loss did not improve from 0.61136\n",
            "16641/16641 [==============================] - 6s 339us/sample - loss: 0.6038 - accuracy: 0.7660 - val_loss: 0.6476 - val_accuracy: 0.7486\n",
            "Epoch 54/100\n",
            "16600/16641 [============================>.] - ETA: 0s - loss: 0.5970 - accuracy: 0.7644\n",
            "Epoch 00054: val_loss did not improve from 0.61136\n",
            "16641/16641 [==============================] - 6s 341us/sample - loss: 0.5973 - accuracy: 0.7642 - val_loss: 0.6261 - val_accuracy: 0.7551\n",
            "Epoch 55/100\n",
            "16600/16641 [============================>.] - ETA: 0s - loss: 0.5922 - accuracy: 0.7692\n",
            "Epoch 00055: val_loss did not improve from 0.61136\n",
            "16641/16641 [==============================] - 6s 344us/sample - loss: 0.5925 - accuracy: 0.7692 - val_loss: 0.6254 - val_accuracy: 0.7484\n",
            "Epoch 56/100\n",
            "16600/16641 [============================>.] - ETA: 0s - loss: 0.5919 - accuracy: 0.7672\n",
            "Epoch 00056: val_loss did not improve from 0.61136\n",
            "16641/16641 [==============================] - 6s 338us/sample - loss: 0.5920 - accuracy: 0.7671 - val_loss: 0.6488 - val_accuracy: 0.7337\n",
            "Epoch 57/100\n",
            "16600/16641 [============================>.] - ETA: 0s - loss: 0.5956 - accuracy: 0.7696\n",
            "Epoch 00057: val_loss did not improve from 0.61136\n",
            "16641/16641 [==============================] - 6s 339us/sample - loss: 0.5954 - accuracy: 0.7697 - val_loss: 0.6622 - val_accuracy: 0.7376\n",
            "Epoch 58/100\n",
            "16600/16641 [============================>.] - ETA: 0s - loss: 0.5918 - accuracy: 0.7690\n",
            "Epoch 00058: val_loss did not improve from 0.61136\n",
            "16641/16641 [==============================] - 6s 341us/sample - loss: 0.5920 - accuracy: 0.7689 - val_loss: 0.6592 - val_accuracy: 0.7493\n"
          ],
          "name": "stdout"
        }
      ]
    },
    {
      "cell_type": "code",
      "metadata": {
        "id": "Ktm_ca7BqJ3W",
        "colab_type": "code",
        "colab": {
          "base_uri": "https://localhost:8080/",
          "height": 318
        },
        "outputId": "84685a6d-79e1-44ba-93e4-a645286867a8"
      },
      "source": [
        "# test 데이터의 loss, accuracy\n",
        "eval = additional_model.evaluate(X_test, y_test)\n",
        "print(f'Test loss: {eval[0]}, accuracy: {eval[1]}')\n",
        "# Test loss: 0.34357965903611304, accuracy: 0.8848298192024231 -> (train 안시킨걸로 돌림)\n",
        "\n",
        "# Test loss: 0.6434057338538938, accuracy: 0.7519707679748535\n",
        "#  - loss: 0.5920 - accuracy: 0.7689 - val_loss: 0.6592 - val_accuracy: 0.7493\n",
        "\n",
        "# train 데이터, validation 데이터의 손실 그래프\n",
        "train_loss = history.history['loss']\n",
        "val_loss = history.history['val_loss']\n",
        "x_len = range(len(train_loss))\n",
        "plt.plot(x_len, train_loss, marker='.', color='red', label='Train loss')\n",
        "plt.plot(x_len, val_loss, marker='.', color='blue', label='Val loss')\n",
        "plt.legend()\n",
        "plt.xlabel('epochs')\n",
        "plt.ylabel('loss')\n",
        "plt.show()"
      ],
      "execution_count": 29,
      "outputs": [
        {
          "output_type": "stream",
          "text": [
            "5201/5201 [==============================] - 2s 446us/sample - loss: 0.6434 - accuracy: 0.7520\n",
            "Test loss: 0.6434057338538938, accuracy: 0.7519707679748535\n"
          ],
          "name": "stdout"
        },
        {
          "output_type": "display_data",
          "data": {
            "image/png": "[encoded data removed]",
            "text/plain": [
              "<Figure size 432x288 with 1 Axes>"
            ]
          },
          "metadata": {
            "tags": []
          }
        }
      ]
    },
    {
      "cell_type": "code",
      "metadata": {
        "id": "ZNXhDL01qMLT",
        "colab_type": "code",
        "colab": {
          "base_uri": "https://localhost:8080/",
          "height": 279
        },
        "outputId": "3a97ecd2-d609-4eeb-de11-b38cd11771b4"
      },
      "source": [
        "# train 데이터, validation 데이터의 정확도 그래프\n",
        "train_acc = history.history['accuracy']\n",
        "val_acc = history.history['val_accuracy']\n",
        "plt.plot(x_len, train_acc, marker='.', c='red', label='Train Acc.')\n",
        "plt.plot(x_len, val_acc, marker='.', c='blue', label='Val Acc.')\n",
        "plt.legend()\n",
        "plt.xlabel('epochs')\n",
        "plt.ylabel('accuracy')\n",
        "plt.show()"
      ],
      "execution_count": 30,
      "outputs": [
        {
          "output_type": "display_data",
          "data": {
            "image/png": "[encoded data removed]",
            "text/plain": [
              "<Figure size 432x288 with 1 Axes>"
            ]
          },
          "metadata": {
            "tags": []
          }
        }
      ]
    },
    {
      "cell_type": "code",
      "metadata": {
        "id": "vsC4v3ZTnMj4",
        "colab_type": "code",
        "colab": {
          "base_uri": "https://localhost:8080/",
          "height": 448
        },
        "outputId": "4d3df8b1-14d5-4645-93db-77ad67ccbf8f"
      },
      "source": [
        "# # 4. 만든 모델 불러와서 예측 후 평가\n",
        "# model = load_model('./drive/My Drive/final_project/practice10.model')\n",
        "\n",
        "# categories = [\"df\", \"mel\", \"nv\", \"tsu\", \"vl\"]  \n",
        "\n",
        "# predictions = model.predict(X_test)\n",
        "# y_test = np.argmax(y_test, axis=1)\n",
        "# y_pred = np.argmax(predictions, axis=1)\n",
        "# print('* Confusion Matrix')\n",
        "# print(confusion_matrix(y_test, y_pred))\n",
        "# print('* Classification Report')\n",
        "# print(classification_report(y_test, y_pred, target_names=categories)) \n",
        "\n",
        "categories = [\"df\", \"mel\", \"nv\", \"tsu\", \"vl\"]\n",
        "\n",
        "# confusion matrix & classification report\n",
        "print(y_test)\n",
        "\n",
        "y_true = np.argmax(y_test, axis=1)   # 행 중 가장 큰값의 idx\n",
        "# (one-hot-encoding 되어있으므로 1로 표시된 값을 행에서 가장 큰값으로 출력하여 array로 만듦)\n",
        "print(y_true)\n",
        "y_pred = np.argmax(model.predict(X_test), axis=1)\n",
        "print(y_pred)\n",
        "\n",
        "cm = confusion_matrix(y_true, y_pred)\n",
        "print(cm)\n",
        "# 세로가 실제클래스, 가로가 예측클래스\n",
        "## 1 \n",
        "# [[ 420  334   44   33    1]\n",
        "#  [   1  860   68    1    0]\n",
        "#  [   1  312  595    2    3]\n",
        "#  [   1   20    2 1018    3]\n",
        "#  [   0   13   18    4  819]]\n",
        "\n",
        "### 2\n",
        "# [[412   5  23   3   2]\n",
        "#  [  4 380  58   9   0]\n",
        "#  [  1  40 393   4   0]\n",
        "#  [  0   0   0 536   0]\n",
        "#  [  0   5   2  26 384]]\n",
        "\n",
        "\n",
        "report = classification_report(y_true, y_pred, target_names=categories)\n",
        "print(report)"
      ],
      "execution_count": 43,
      "outputs": [
        {
          "output_type": "stream",
          "text": [
            "[0 3 3 ... 1 2 3]\n"
          ],
          "name": "stdout"
        },
        {
          "output_type": "error",
          "ename": "AxisError",
          "evalue": "ignored",
          "traceback": [
            "\u001b[0;31m---------------------------------------------------------------------------\u001b[0m",
            "\u001b[0;31mAxisError\u001b[0m                                 Traceback (most recent call last)",
            "\u001b[0;32m<ipython-input-43-c9d47c987285>\u001b[0m in \u001b[0;36m<module>\u001b[0;34m()\u001b[0m\n\u001b[1;32m      5\u001b[0m \u001b[0mprint\u001b[0m\u001b[0;34m(\u001b[0m\u001b[0my_test\u001b[0m\u001b[0;34m)\u001b[0m\u001b[0;34m\u001b[0m\u001b[0;34m\u001b[0m\u001b[0m\n\u001b[1;32m      6\u001b[0m \u001b[0;34m\u001b[0m\u001b[0m\n\u001b[0;32m----> 7\u001b[0;31m \u001b[0my_true\u001b[0m \u001b[0;34m=\u001b[0m \u001b[0mnp\u001b[0m\u001b[0;34m.\u001b[0m\u001b[0margmax\u001b[0m\u001b[0;34m(\u001b[0m\u001b[0my_test\u001b[0m\u001b[0;34m,\u001b[0m \u001b[0maxis\u001b[0m\u001b[0;34m=\u001b[0m\u001b[0;36m1\u001b[0m\u001b[0;34m)\u001b[0m   \u001b[0;31m# 행 중 가장 큰값의 idx\u001b[0m\u001b[0;34m\u001b[0m\u001b[0;34m\u001b[0m\u001b[0m\n\u001b[0m\u001b[1;32m      8\u001b[0m \u001b[0;31m# (one-hot-encoding 되어있으므로 1로 표시된 값을 행에서 가장 큰값으로 출력하여 array로 만듦)\u001b[0m\u001b[0;34m\u001b[0m\u001b[0;34m\u001b[0m\u001b[0;34m\u001b[0m\u001b[0m\n\u001b[1;32m      9\u001b[0m \u001b[0mprint\u001b[0m\u001b[0;34m(\u001b[0m\u001b[0my_true\u001b[0m\u001b[0;34m)\u001b[0m\u001b[0;34m\u001b[0m\u001b[0;34m\u001b[0m\u001b[0m\n",
            "\u001b[0;32m<__array_function__ internals>\u001b[0m in \u001b[0;36margmax\u001b[0;34m(*args, **kwargs)\u001b[0m\n",
            "\u001b[0;32m/usr/local/lib/python3.6/dist-packages/numpy/core/fromnumeric.py\u001b[0m in \u001b[0;36margmax\u001b[0;34m(a, axis, out)\u001b[0m\n\u001b[1;32m   1151\u001b[0m \u001b[0;34m\u001b[0m\u001b[0m\n\u001b[1;32m   1152\u001b[0m     \"\"\"\n\u001b[0;32m-> 1153\u001b[0;31m     \u001b[0;32mreturn\u001b[0m \u001b[0m_wrapfunc\u001b[0m\u001b[0;34m(\u001b[0m\u001b[0ma\u001b[0m\u001b[0;34m,\u001b[0m \u001b[0;34m'argmax'\u001b[0m\u001b[0;34m,\u001b[0m \u001b[0maxis\u001b[0m\u001b[0;34m=\u001b[0m\u001b[0maxis\u001b[0m\u001b[0;34m,\u001b[0m \u001b[0mout\u001b[0m\u001b[0;34m=\u001b[0m\u001b[0mout\u001b[0m\u001b[0;34m)\u001b[0m\u001b[0;34m\u001b[0m\u001b[0;34m\u001b[0m\u001b[0m\n\u001b[0m\u001b[1;32m   1154\u001b[0m \u001b[0;34m\u001b[0m\u001b[0m\n\u001b[1;32m   1155\u001b[0m \u001b[0;34m\u001b[0m\u001b[0m\n",
            "\u001b[0;32m/usr/local/lib/python3.6/dist-packages/numpy/core/fromnumeric.py\u001b[0m in \u001b[0;36m_wrapfunc\u001b[0;34m(obj, method, *args, **kwds)\u001b[0m\n\u001b[1;32m     59\u001b[0m \u001b[0;34m\u001b[0m\u001b[0m\n\u001b[1;32m     60\u001b[0m     \u001b[0;32mtry\u001b[0m\u001b[0;34m:\u001b[0m\u001b[0;34m\u001b[0m\u001b[0;34m\u001b[0m\u001b[0m\n\u001b[0;32m---> 61\u001b[0;31m         \u001b[0;32mreturn\u001b[0m \u001b[0mbound\u001b[0m\u001b[0;34m(\u001b[0m\u001b[0;34m*\u001b[0m\u001b[0margs\u001b[0m\u001b[0;34m,\u001b[0m \u001b[0;34m**\u001b[0m\u001b[0mkwds\u001b[0m\u001b[0;34m)\u001b[0m\u001b[0;34m\u001b[0m\u001b[0;34m\u001b[0m\u001b[0m\n\u001b[0m\u001b[1;32m     62\u001b[0m     \u001b[0;32mexcept\u001b[0m \u001b[0mTypeError\u001b[0m\u001b[0;34m:\u001b[0m\u001b[0;34m\u001b[0m\u001b[0;34m\u001b[0m\u001b[0m\n\u001b[1;32m     63\u001b[0m         \u001b[0;31m# A TypeError occurs if the object does have such a method in its\u001b[0m\u001b[0;34m\u001b[0m\u001b[0;34m\u001b[0m\u001b[0;34m\u001b[0m\u001b[0m\n",
            "\u001b[0;31mAxisError\u001b[0m: axis 1 is out of bounds for array of dimension 1"
          ]
        }
      ]
    }
  ]
}