{
  "nbformat": 4,
  "nbformat_minor": 0,
  "metadata": {
    "colab": {
      "name": "cnn_final_5_3.ipynb",
      "provenance": [],
      "collapsed_sections": [],
      "authorship_tag": "ABX9TyPvDsPy15JrNXX9XBgCJ4to",
      "include_colab_link": true
    },
    "kernelspec": {
      "name": "python3",
      "display_name": "Python 3"
    },
    "accelerator": "GPU"
  },
  "cells": [
    {
      "cell_type": "markdown",
      "metadata": {
        "id": "view-in-github",
        "colab_type": "text"
      },
      "source": [
        "<a href=\"https://colab.research.google.com/github/strz/ITWILL_Citrus-Tea/blob/master/cnn_final_5_3.ipynb\" target=\"_parent\"><img src=\"https://colab.research.google.com/assets/colab-badge.svg\" alt=\"Open In Colab\"/></a>"
      ]
    },
    {
      "cell_type": "markdown",
      "metadata": {
        "id": "rg4QBXVijaWw",
        "colab_type": "text"
      },
      "source": [
        "**<파이썬 CNN을 이용한 쯔쯔가무시 등 5종 병변 분류 및 예측>**\n",
        "\n",
        "2020.02.14 (금) <br>\n",
        "5개 class를 cnn으로 분류하여 알아맞히기\n",
        " - 각 클래스당 이미지를 5,000장 부풀려 클래스당 비율을 맞춤.<br>\n",
        " (xy5_cnn_final_3_save.npy: 5,000장 (128,128) 사용)\n",
        "\n",
        " - 이미지 제너레이터는 보통수준으로 함(많이 변형하지 않았음).\n",
        " - 이미지 파일크기가 250KB 보다 큰 경우, 픽셀 256 비율에 맞게 축소하고,\n",
        "   작은 경우, 픽셀 128 비율에 맞게 축소하여 부풀림.\n",
        "   이미지에 노이즈를 즐여줌.\n",
        " - cnn 모델은 conv2D 4개층으로 함.\n"
      ]
    },
    {
      "cell_type": "markdown",
      "metadata": {
        "id": "U9fQt9s-jzb4",
        "colab_type": "text"
      },
      "source": [
        "**1. 버전 설정 및 확인**"
      ]
    },
    {
      "cell_type": "code",
      "metadata": {
        "id": "Qrxn-VKtY79z",
        "colab_type": "code",
        "outputId": "d3e4626b-add8-475f-871e-169995db5577",
        "colab": {
          "base_uri": "https://localhost:8080/",
          "height": 53
        }
      },
      "source": [
        "# Tensorflow 사용버전 설정\n",
        "%tensorflow_version 1.x\n",
        "\n",
        "# Tensorflow 버전과 GPU 사용 여부 확인\n",
        "import tensorflow as tf\n",
        "\n",
        "print(tf.__version__)\n",
        "print(tf.test.gpu_device_name()) "
      ],
      "execution_count": 1,
      "outputs": [
        {
          "output_type": "stream",
          "text": [
            "1.15.0\n",
            "/device:GPU:0\n"
          ],
          "name": "stdout"
        }
      ]
    },
    {
      "cell_type": "code",
      "metadata": {
        "id": "eTX1HNDga9N2",
        "colab_type": "code",
        "outputId": "70b258e8-78d1-49ad-c580-178b650d676f",
        "colab": {
          "base_uri": "https://localhost:8080/",
          "height": 127
        }
      },
      "source": [
        "from google.colab import drive\n",
        "drive.mount('/content/drive')"
      ],
      "execution_count": 2,
      "outputs": [
        {
          "output_type": "stream",
          "text": [
            "Go to this URL in a browser: https://accounts.google.com/o/oauth2/auth?client_id=947318989803-6bn6qk8qdgf4n4g3pfee6491hc0brc4i.apps.googleusercontent.com&redirect_uri=urn%3aietf%3awg%3aoauth%3a2.0%3aoob&response_type=code&scope=email%20https%3a%2f%2fwww.googleapis.com%2fauth%2fdocs.test%20https%3a%2f%2fwww.googleapis.com%2fauth%2fdrive%20https%3a%2f%2fwww.googleapis.com%2fauth%2fdrive.photos.readonly%20https%3a%2f%2fwww.googleapis.com%2fauth%2fpeopleapi.readonly\n",
            "\n",
            "Enter your authorization code:\n",
            "··········\n",
            "Mounted at /content/drive\n"
          ],
          "name": "stdout"
        }
      ]
    },
    {
      "cell_type": "markdown",
      "metadata": {
        "id": "_GmK6J9Ij9hZ",
        "colab_type": "text"
      },
      "source": [
        "**2. 클래스 및 모듈 import**"
      ]
    },
    {
      "cell_type": "code",
      "metadata": {
        "id": "3GLtezc1fO_7",
        "colab_type": "code",
        "outputId": "f704a70b-7c9b-4a11-9f07-3a0d27f9e241",
        "colab": {
          "base_uri": "https://localhost:8080/",
          "height": 35
        }
      },
      "source": [
        "# 모듈 import\n",
        "import os\n",
        "import glob\n",
        "import numpy as np\n",
        "from sklearn.metrics import confusion_matrix , classification_report\n",
        "from sklearn.model_selection import train_test_split\n",
        "from keras_preprocessing.image import ImageDataGenerator , load_img , img_to_array\n",
        "from keras import Sequential\n",
        "from keras.layers import Conv2D , MaxPool2D , Flatten , Dense, Dropout\n",
        "from keras.callbacks import EarlyStopping , ModelCheckpoint\n",
        "from keras.engine.saving import load_model\n",
        "from PIL import Image\n",
        "import matplotlib.pyplot as plt"
      ],
      "execution_count": 3,
      "outputs": [
        {
          "output_type": "stream",
          "text": [
            "Using TensorFlow backend.\n"
          ],
          "name": "stderr"
        }
      ]
    },
    {
      "cell_type": "markdown",
      "metadata": {
        "id": "NsI10Y11l2se",
        "colab_type": "text"
      },
      "source": [
        "**3. 함수 정의**"
      ]
    },
    {
      "cell_type": "code",
      "metadata": {
        "id": "kvfCh9pXl0-b",
        "colab_type": "code",
        "colab": {}
      },
      "source": [
        "# mj03_2_img_generating_upgrade.py 파일 참고"
      ],
      "execution_count": 0,
      "outputs": []
    },
    {
      "cell_type": "markdown",
      "metadata": {
        "id": "Ems50U6Clvv8",
        "colab_type": "text"
      },
      "source": [
        "**4. dataset 불러오기 & 전처리**"
      ]
    },
    {
      "cell_type": "markdown",
      "metadata": {
        "id": "sygWy-9i5cHy",
        "colab_type": "text"
      },
      "source": [
        "(생략된 부분)"
      ]
    },
    {
      "cell_type": "code",
      "metadata": {
        "id": "BWynsfRC5bi6",
        "colab_type": "code",
        "colab": {}
      },
      "source": [
        "# 디렉토리 내의 파일 개수 알아보기\n",
        "# main_dir = './img_class/'\n",
        "# categories = [\"df\", \"mel\", \"nv\", \"tsu\", \"vl\"]   # 육안으로 보았을 때 쯔쯔가무시와 비슷해보이는 5개 클래스를 선정\n",
        "# number_of_files = number_of_files(main_dir=main_dir, categories=categories)\n",
        "# print(number_of_files)\n",
        "\n",
        "# k = 5000   # 부풀릴 이미지 목표 장수\n",
        "# n = [k/i for i in number_of_files]\n",
        "# print(f'폴더별로 곱할 수: {n}')\n",
        "\n",
        "\n",
        "# # 원본 이미지 불러와 부풀리기\n",
        "# categories = [\"df\"]\n",
        "# img_generating_2(main_dir=main_dir, categories=categories, n=0.9)\n",
        "# categories = [\"mel\"]\n",
        "# img_generating_2(main_dir=main_dir, categories=categories, n=0.9)\n",
        "# categories = [\"nv\"]\n",
        "# img_generating_2(main_dir=main_dir, categories=categories, n=0.9)\n",
        "# categories = [\"tsu\"]\n",
        "# img_generating_2(main_dir=main_dir, categories=categories, n=0.75)\n",
        "# categories = [\"vl\"]\n",
        "# img_generating_2(main_dir=main_dir, categories=categories, n=0.9)\n",
        "\n",
        "\n",
        "# # X 데이터셋 만들기 (class별로 나누어져 있는 폴더에서 이미지를 가져와 픽셀 배열로 저장)\n",
        "# X = img_to_dataset(main_dir=main_dir, categories=categories, size=(128,128))\n",
        "# print(X.shape)   # (22861, 128, 128, 3)\n",
        "\n",
        "# # 폴더 안에있는 이미지에 y label 붙여 array로 저장\n",
        "# y = labeling(main_dir=main_dir, categories=categories)\n",
        "\n",
        "# # train, test 데이터로 나누고, 데이터 정규화 하기\n",
        "# np.random.seed(214)\n",
        "# X_train, X_test, y_train, y_test = train_test_split(X, y, test_size=0.2)\n",
        "# print(len(X_train), len(X_test), len(y_train), len(y_test))\n",
        "\n",
        "# xy = (X_train, X_test, y_train, y_test)\n",
        "# np.save('./xy5_cnn_final_3_save.npy', xy)   # x_save.npy"
      ],
      "execution_count": 0,
      "outputs": []
    },
    {
      "cell_type": "code",
      "metadata": {
        "id": "2UC-GST2mOmQ",
        "colab_type": "code",
        "outputId": "3fc6b7d5-fe89-4f95-ca86-4cf00fa614fa",
        "colab": {
          "base_uri": "https://localhost:8080/",
          "height": 1000
        }
      },
      "source": [
        "### np.save로 저장된 파일 불러오기\n",
        "X_train, X_test, y_train, y_test = np.load('./drive/My Drive/final_project/xy5_cnn_final_3_save.npy', allow_pickle=True)\n",
        "# xy5_cnn_final_3_save.npy: 5,000장씩 (128,128)\n",
        "\n",
        "# 정규화 시키기\n",
        "X_train = X_train.astype('float16') / 255\n",
        "X_test = X_test.astype('float16') / 255\n",
        "\n",
        "print(f'X_train: {X_train.shape}, y_train: {y_train.shape}')  # X_train: (18288, 128, 128, 3), y_train: (18288, 5)\n",
        "print(f'X_test: {X_test.shape}, y_test: {y_test.shape}')  # X_test: (4573, 128, 128, 3), y_test: (4573, 5)\n",
        "\n",
        "print(f'X_train: {X_train[0]}, X_test: {X_test[0]}')"
      ],
      "execution_count": 7,
      "outputs": [
        {
          "output_type": "stream",
          "text": [
            "X_train: (18288, 128, 128, 3), y_train: (18288, 5)\n",
            "X_test: (4573, 128, 128, 3), y_test: (4573, 5)\n",
            "X_train: [[[0.996  0.949  0.996 ]\n",
            "  [0.992  0.9453 0.992 ]\n",
            "  [0.9883 0.9414 0.9883]\n",
            "  ...\n",
            "  [1.     0.965  0.996 ]\n",
            "  [1.     0.965  1.    ]\n",
            "  [1.     0.9688 1.    ]]\n",
            "\n",
            " [[0.996  0.949  0.996 ]\n",
            "  [0.996  0.949  0.996 ]\n",
            "  [0.996  0.949  0.996 ]\n",
            "  ...\n",
            "  [1.     0.965  0.996 ]\n",
            "  [1.     0.965  1.    ]\n",
            "  [1.     0.9688 1.    ]]\n",
            "\n",
            " [[0.996  0.949  0.996 ]\n",
            "  [0.996  0.949  0.996 ]\n",
            "  [0.996  0.949  0.996 ]\n",
            "  ...\n",
            "  [1.     0.965  0.996 ]\n",
            "  [1.     0.965  1.    ]\n",
            "  [1.     0.9688 1.    ]]\n",
            "\n",
            " ...\n",
            "\n",
            " [[1.     0.957  0.996 ]\n",
            "  [1.     0.953  0.992 ]\n",
            "  [0.996  0.9453 0.9844]\n",
            "  ...\n",
            "  [1.     0.961  0.992 ]\n",
            "  [1.     0.961  0.992 ]\n",
            "  [1.     0.957  0.9883]]\n",
            "\n",
            " [[1.     0.957  0.996 ]\n",
            "  [1.     0.953  0.992 ]\n",
            "  [0.996  0.9453 0.9844]\n",
            "  ...\n",
            "  [1.     0.961  0.992 ]\n",
            "  [1.     0.961  0.992 ]\n",
            "  [1.     0.957  0.9883]]\n",
            "\n",
            " [[1.     0.957  0.996 ]\n",
            "  [1.     0.953  0.992 ]\n",
            "  [0.996  0.9453 0.9844]\n",
            "  ...\n",
            "  [1.     0.961  0.992 ]\n",
            "  [1.     0.961  0.992 ]\n",
            "  [1.     0.957  0.9883]]], X_test: [[[0.992  0.847  0.8115]\n",
            "  [0.9883 0.8433 0.8076]\n",
            "  [0.9883 0.8394 0.8037]\n",
            "  ...\n",
            "  [1.     0.894  0.82  ]\n",
            "  [1.     0.894  0.8237]\n",
            "  [1.     0.886  0.816 ]]\n",
            "\n",
            " [[0.9805 0.8354 0.8   ]\n",
            "  [0.9805 0.8354 0.8   ]\n",
            "  [0.9805 0.8315 0.796 ]\n",
            "  ...\n",
            "  [1.     0.894  0.82  ]\n",
            "  [1.     0.894  0.8237]\n",
            "  [1.     0.886  0.816 ]]\n",
            "\n",
            " [[0.9805 0.8354 0.8   ]\n",
            "  [0.9805 0.8354 0.8   ]\n",
            "  [0.9805 0.8315 0.796 ]\n",
            "  ...\n",
            "  [1.     0.894  0.82  ]\n",
            "  [1.     0.894  0.8237]\n",
            "  [1.     0.886  0.816 ]]\n",
            "\n",
            " ...\n",
            "\n",
            " [[0.992  0.8706 0.8   ]\n",
            "  [1.     0.8784 0.8076]\n",
            "  [1.     0.886  0.816 ]\n",
            "  ...\n",
            "  [0.996  0.757  0.686 ]\n",
            "  [0.996  0.757  0.686 ]\n",
            "  [0.996  0.757  0.686 ]]\n",
            "\n",
            " [[0.992  0.8706 0.8   ]\n",
            "  [1.     0.8784 0.8076]\n",
            "  [1.     0.886  0.816 ]\n",
            "  ...\n",
            "  [0.996  0.757  0.686 ]\n",
            "  [0.996  0.757  0.686 ]\n",
            "  [0.996  0.757  0.686 ]]\n",
            "\n",
            " [[0.9883 0.8667 0.796 ]\n",
            "  [0.996  0.8745 0.8037]\n",
            "  [1.     0.8823 0.8115]\n",
            "  ...\n",
            "  [0.992  0.753  0.682 ]\n",
            "  [0.9883 0.749  0.678 ]\n",
            "  [0.9883 0.749  0.678 ]]]\n"
          ],
          "name": "stdout"
        }
      ]
    },
    {
      "cell_type": "markdown",
      "metadata": {
        "id": "bmZuCdWsRo6k",
        "colab_type": "text"
      },
      "source": [
        "**5. 신경망 생성**"
      ]
    },
    {
      "cell_type": "code",
      "metadata": {
        "id": "sTTw2bhSTGvx",
        "colab_type": "code",
        "colab": {
          "base_uri": "https://localhost:8080/",
          "height": 73
        },
        "outputId": "4e70b4c9-c816-44d8-d24b-4b769754bb43"
      },
      "source": [
        "### CNN 모델 만들기 ###\n",
        "# 신경망 모델 생성 - Sequential 클래스 인스턴스 생성\n",
        "model = Sequential()"
      ],
      "execution_count": 8,
      "outputs": [
        {
          "output_type": "stream",
          "text": [
            "WARNING:tensorflow:From /usr/local/lib/python3.6/dist-packages/keras/backend/tensorflow_backend.py:66: The name tf.get_default_graph is deprecated. Please use tf.compat.v1.get_default_graph instead.\n",
            "\n"
          ],
          "name": "stdout"
        }
      ]
    },
    {
      "cell_type": "code",
      "metadata": {
        "id": "n67L6r1XGw9k",
        "colab_type": "code",
        "colab": {
          "base_uri": "https://localhost:8080/",
          "height": 235
        },
        "outputId": "3340f994-a944-4031-bacd-a65aa87d6c15"
      },
      "source": [
        "# 신경망 모델에 은닉층, 출력층 계층(layers)들을 추가\n",
        "# (Conv2D -> MaxPool2D) x 4개층 -> Flatten -> Dense -> Dense\n",
        "# Conv2D 활성화 함수: ReLU\n",
        "# Dense 활성화 함수: ReLU, Softmax\n",
        "conv_1 = model.add(Conv2D(filters=32,         # 필터 갯수\n",
        "                          kernel_size=(3,3),  # 필터의 height/width\n",
        "                          activation='relu',  # 활성화 함수\n",
        "                          input_shape=(128, 128, 3),\n",
        "                          padding='same'))  # 입력데이터의 shape (h,w,c)순서임.\n",
        "poo1_1 = model.add(MaxPool2D(pool_size=2))   # 이미지가 줄어듦.\n",
        "model.add(Dropout(0.25))\n",
        "\n",
        "model.add(Conv2D(filters=32,\n",
        "                  kernel_size=(3,3),\n",
        "                  activation='relu',\n",
        "                  padding='same'))\n",
        "model.add(MaxPool2D(pool_size=2))\n",
        "model.add(Dropout(0.25))\n",
        "\n",
        "model.add(Conv2D(filters=32,\n",
        "                  kernel_size=(3,3),\n",
        "                  activation='relu',\n",
        "                  padding='same'))\n",
        "model.add(MaxPool2D(pool_size=2))\n",
        "model.add(Dropout(0.25))\n",
        "\n",
        "model.add(Conv2D(filters=32,\n",
        "                  kernel_size=(3,3),\n",
        "                  activation='relu',\n",
        "                  padding='same'))\n",
        "model.add(MaxPool2D(pool_size=2))\n",
        "model.add(Dropout(0.25))\n",
        "\n",
        "model.add(Flatten())  # keras에서는 Dense 층에 넣기 전에 모두 펴줘야함.\n",
        "model.add(Dense(128, activation='relu'))   # 완전 연결 은닉층\n",
        "model.add(Dense(len(categories), activation='softmax'))  # 출력층 (위에서 함수로 one-hot-encoding 해줌)"
      ],
      "execution_count": 9,
      "outputs": [
        {
          "output_type": "stream",
          "text": [
            "WARNING:tensorflow:From /usr/local/lib/python3.6/dist-packages/keras/backend/tensorflow_backend.py:541: The name tf.placeholder is deprecated. Please use tf.compat.v1.placeholder instead.\n",
            "\n",
            "WARNING:tensorflow:From /usr/local/lib/python3.6/dist-packages/keras/backend/tensorflow_backend.py:4432: The name tf.random_uniform is deprecated. Please use tf.random.uniform instead.\n",
            "\n",
            "WARNING:tensorflow:From /usr/local/lib/python3.6/dist-packages/keras/backend/tensorflow_backend.py:4267: The name tf.nn.max_pool is deprecated. Please use tf.nn.max_pool2d instead.\n",
            "\n",
            "WARNING:tensorflow:From /usr/local/lib/python3.6/dist-packages/keras/backend/tensorflow_backend.py:148: The name tf.placeholder_with_default is deprecated. Please use tf.compat.v1.placeholder_with_default instead.\n",
            "\n",
            "WARNING:tensorflow:From /usr/local/lib/python3.6/dist-packages/keras/backend/tensorflow_backend.py:3733: calling dropout (from tensorflow.python.ops.nn_ops) with keep_prob is deprecated and will be removed in a future version.\n",
            "Instructions for updating:\n",
            "Please use `rate` instead of `keep_prob`. Rate should be set to `rate = 1 - keep_prob`.\n"
          ],
          "name": "stdout"
        }
      ]
    },
    {
      "cell_type": "code",
      "metadata": {
        "id": "rXU1bH4qTLMH",
        "colab_type": "code",
        "colab": {
          "base_uri": "https://localhost:8080/",
          "height": 109
        },
        "outputId": "0afaff6b-ca96-46d9-d96b-13095d757c8d"
      },
      "source": [
        "# 신경망 모델 컴파일\n",
        "model.compile(loss='categorical_crossentropy',\n",
        "              optimizer='adam',\n",
        "              metrics=['accuracy'])"
      ],
      "execution_count": 10,
      "outputs": [
        {
          "output_type": "stream",
          "text": [
            "WARNING:tensorflow:From /usr/local/lib/python3.6/dist-packages/keras/optimizers.py:793: The name tf.train.Optimizer is deprecated. Please use tf.compat.v1.train.Optimizer instead.\n",
            "\n",
            "WARNING:tensorflow:From /usr/local/lib/python3.6/dist-packages/keras/backend/tensorflow_backend.py:3576: The name tf.log is deprecated. Please use tf.math.log instead.\n",
            "\n"
          ],
          "name": "stdout"
        }
      ]
    },
    {
      "cell_type": "code",
      "metadata": {
        "id": "HhXyqyhcTeTe",
        "colab_type": "code",
        "colab": {
          "base_uri": "https://localhost:8080/",
          "height": 1000
        },
        "outputId": "ffa83b09-aba1-427f-b4c1-d0c2531f0939"
      },
      "source": [
        "# 신경망 모델의 성능 향상이 없는 경우 중간에 epoch을 빨리 중지시키기 위해서\n",
        "early_stop = EarlyStopping(monitor='val_loss',\n",
        "                            verbose=1,\n",
        "                            patience=10)\n",
        "\n",
        "# 신경망 학습\n",
        "model_dir = \"./model\"\n",
        "if not os.path.exists(model_dir):  # model_dir이 없을 경우 폴더 생성\n",
        "    os.mkdir(model_dir)\n",
        "\n",
        "model_path = model_dir + '/cnn_final_2.model'\n",
        "checkpoint = ModelCheckpoint(filepath=model_path, monitor='val_loss', verbose=1, save_best_only=True)\n",
        "early_stop = EarlyStopping(monitor='val_loss', patience=10)\n",
        "\n",
        "history = model.fit(X_train, y_train,\n",
        "                    batch_size=100,  # 전체갯수를 batch_size로 나눈 만큼 반복\n",
        "                    epochs=50,   # 에폭만큼 파라미터 업데이트\n",
        "                    verbose=1,\n",
        "                    callbacks=[checkpoint, early_stop],\n",
        "                    validation_split=0.2)"
      ],
      "execution_count": 12,
      "outputs": [
        {
          "output_type": "stream",
          "text": [
            "Train on 14630 samples, validate on 3658 samples\n",
            "Epoch 1/50\n",
            "14630/14630 [==============================] - 11s 756us/step - loss: 1.3072 - acc: 0.4301 - val_loss: 1.2314 - val_acc: 0.4472\n",
            "\n",
            "Epoch 00001: val_loss improved from inf to 1.23144, saving model to ./model/cnn_final_2.model\n",
            "Epoch 2/50\n",
            "14630/14630 [==============================] - 11s 720us/step - loss: 0.9262 - acc: 0.6349 - val_loss: 0.9149 - val_acc: 0.6621\n",
            "\n",
            "Epoch 00002: val_loss improved from 1.23144 to 0.91490, saving model to ./model/cnn_final_2.model\n",
            "Epoch 3/50\n",
            "14630/14630 [==============================] - 11s 725us/step - loss: 0.7944 - acc: 0.6854 - val_loss: 0.9274 - val_acc: 0.6085\n",
            "\n",
            "Epoch 00003: val_loss did not improve from 0.91490\n",
            "Epoch 4/50\n",
            "14630/14630 [==============================] - 11s 722us/step - loss: 0.7381 - acc: 0.7100 - val_loss: 0.7629 - val_acc: 0.7075\n",
            "\n",
            "Epoch 00004: val_loss improved from 0.91490 to 0.76294, saving model to ./model/cnn_final_2.model\n",
            "Epoch 5/50\n",
            "14630/14630 [==============================] - 11s 722us/step - loss: 0.6709 - acc: 0.7379 - val_loss: 0.6657 - val_acc: 0.7441\n",
            "\n",
            "Epoch 00005: val_loss improved from 0.76294 to 0.66569, saving model to ./model/cnn_final_2.model\n",
            "Epoch 6/50\n",
            "14630/14630 [==============================] - 10s 717us/step - loss: 0.6240 - acc: 0.7502 - val_loss: 0.6764 - val_acc: 0.7326\n",
            "\n",
            "Epoch 00006: val_loss did not improve from 0.66569\n",
            "Epoch 7/50\n",
            "14630/14630 [==============================] - 11s 721us/step - loss: 0.5827 - acc: 0.7678 - val_loss: 0.5968 - val_acc: 0.7728\n",
            "\n",
            "Epoch 00007: val_loss improved from 0.66569 to 0.59678, saving model to ./model/cnn_final_2.model\n",
            "Epoch 8/50\n",
            "14630/14630 [==============================] - 10s 717us/step - loss: 0.5365 - acc: 0.7868 - val_loss: 0.5558 - val_acc: 0.7941\n",
            "\n",
            "Epoch 00008: val_loss improved from 0.59678 to 0.55583, saving model to ./model/cnn_final_2.model\n",
            "Epoch 9/50\n",
            "14630/14630 [==============================] - 10s 714us/step - loss: 0.5001 - acc: 0.8014 - val_loss: 0.5740 - val_acc: 0.7638\n",
            "\n",
            "Epoch 00009: val_loss did not improve from 0.55583\n",
            "Epoch 10/50\n",
            "14630/14630 [==============================] - 10s 710us/step - loss: 0.4776 - acc: 0.8122 - val_loss: 0.5069 - val_acc: 0.8067\n",
            "\n",
            "Epoch 00010: val_loss improved from 0.55583 to 0.50690, saving model to ./model/cnn_final_2.model\n",
            "Epoch 11/50\n",
            "14630/14630 [==============================] - 10s 713us/step - loss: 0.4501 - acc: 0.8212 - val_loss: 0.5440 - val_acc: 0.7761\n",
            "\n",
            "Epoch 00011: val_loss did not improve from 0.50690\n",
            "Epoch 12/50\n",
            "14630/14630 [==============================] - 11s 718us/step - loss: 0.4316 - acc: 0.8282 - val_loss: 0.6389 - val_acc: 0.7365\n",
            "\n",
            "Epoch 00012: val_loss did not improve from 0.50690\n",
            "Epoch 13/50\n",
            "14630/14630 [==============================] - 10s 717us/step - loss: 0.4160 - acc: 0.8341 - val_loss: 0.5185 - val_acc: 0.7920\n",
            "\n",
            "Epoch 00013: val_loss did not improve from 0.50690\n",
            "Epoch 14/50\n",
            "14630/14630 [==============================] - 10s 715us/step - loss: 0.3952 - acc: 0.8407 - val_loss: 0.4578 - val_acc: 0.8223\n",
            "\n",
            "Epoch 00014: val_loss improved from 0.50690 to 0.45778, saving model to ./model/cnn_final_2.model\n",
            "Epoch 15/50\n",
            "14630/14630 [==============================] - 10s 716us/step - loss: 0.3689 - acc: 0.8509 - val_loss: 0.4371 - val_acc: 0.8286\n",
            "\n",
            "Epoch 00015: val_loss improved from 0.45778 to 0.43708, saving model to ./model/cnn_final_2.model\n",
            "Epoch 16/50\n",
            "14630/14630 [==============================] - 10s 714us/step - loss: 0.3603 - acc: 0.8567 - val_loss: 0.4969 - val_acc: 0.7941\n",
            "\n",
            "Epoch 00016: val_loss did not improve from 0.43708\n",
            "Epoch 17/50\n",
            "14630/14630 [==============================] - 10s 708us/step - loss: 0.3445 - acc: 0.8644 - val_loss: 0.5174 - val_acc: 0.7854\n",
            "\n",
            "Epoch 00017: val_loss did not improve from 0.43708\n",
            "Epoch 18/50\n",
            "14630/14630 [==============================] - 10s 713us/step - loss: 0.3388 - acc: 0.8655 - val_loss: 0.6901 - val_acc: 0.7242\n",
            "\n",
            "Epoch 00018: val_loss did not improve from 0.43708\n",
            "Epoch 19/50\n",
            "14630/14630 [==============================] - 10s 710us/step - loss: 0.3131 - acc: 0.8762 - val_loss: 0.4478 - val_acc: 0.8280\n",
            "\n",
            "Epoch 00019: val_loss did not improve from 0.43708\n",
            "Epoch 20/50\n",
            "14630/14630 [==============================] - 11s 719us/step - loss: 0.3143 - acc: 0.8772 - val_loss: 0.3917 - val_acc: 0.8472\n",
            "\n",
            "Epoch 00020: val_loss improved from 0.43708 to 0.39167, saving model to ./model/cnn_final_2.model\n",
            "Epoch 21/50\n",
            "14630/14630 [==============================] - 10s 717us/step - loss: 0.2883 - acc: 0.8856 - val_loss: 0.4344 - val_acc: 0.8313\n",
            "\n",
            "Epoch 00021: val_loss did not improve from 0.39167\n",
            "Epoch 22/50\n",
            "14630/14630 [==============================] - 10s 710us/step - loss: 0.2752 - acc: 0.8906 - val_loss: 0.4515 - val_acc: 0.8177\n",
            "\n",
            "Epoch 00022: val_loss did not improve from 0.39167\n",
            "Epoch 23/50\n",
            "14630/14630 [==============================] - 10s 713us/step - loss: 0.2743 - acc: 0.8910 - val_loss: 0.4089 - val_acc: 0.8434\n",
            "\n",
            "Epoch 00023: val_loss did not improve from 0.39167\n",
            "Epoch 24/50\n",
            "14630/14630 [==============================] - 10s 715us/step - loss: 0.2479 - acc: 0.9007 - val_loss: 0.4364 - val_acc: 0.8289\n",
            "\n",
            "Epoch 00024: val_loss did not improve from 0.39167\n",
            "Epoch 25/50\n",
            "14630/14630 [==============================] - 11s 722us/step - loss: 0.2613 - acc: 0.8973 - val_loss: 0.4294 - val_acc: 0.8319\n",
            "\n",
            "Epoch 00025: val_loss did not improve from 0.39167\n",
            "Epoch 26/50\n",
            "14630/14630 [==============================] - 10s 714us/step - loss: 0.2472 - acc: 0.9006 - val_loss: 0.3964 - val_acc: 0.8502\n",
            "\n",
            "Epoch 00026: val_loss did not improve from 0.39167\n",
            "Epoch 27/50\n",
            "14630/14630 [==============================] - 10s 715us/step - loss: 0.2343 - acc: 0.9053 - val_loss: 0.4469 - val_acc: 0.8253\n",
            "\n",
            "Epoch 00027: val_loss did not improve from 0.39167\n",
            "Epoch 28/50\n",
            "14630/14630 [==============================] - 11s 718us/step - loss: 0.2151 - acc: 0.9161 - val_loss: 0.4614 - val_acc: 0.8330\n",
            "\n",
            "Epoch 00028: val_loss did not improve from 0.39167\n",
            "Epoch 29/50\n",
            "14630/14630 [==============================] - 11s 729us/step - loss: 0.2376 - acc: 0.9059 - val_loss: 0.3949 - val_acc: 0.8578\n",
            "\n",
            "Epoch 00029: val_loss did not improve from 0.39167\n",
            "Epoch 30/50\n",
            "14630/14630 [==============================] - 11s 730us/step - loss: 0.2129 - acc: 0.9160 - val_loss: 0.3984 - val_acc: 0.8472\n",
            "\n",
            "Epoch 00030: val_loss did not improve from 0.39167\n"
          ],
          "name": "stdout"
        }
      ]
    },
    {
      "cell_type": "markdown",
      "metadata": {
        "id": "B8tyhFB_Toh-",
        "colab_type": "text"
      },
      "source": [
        "**6. 신경망 학습 및 평가**"
      ]
    },
    {
      "cell_type": "code",
      "metadata": {
        "id": "qzlfzfbtTnIn",
        "colab_type": "code",
        "outputId": "9640abfc-677d-4c0d-c6a1-733ca36f456d",
        "colab": {
          "base_uri": "https://localhost:8080/",
          "height": 53
        }
      },
      "source": [
        "# 테스트 데이터를 사용해서 신경망 모델을 평가\n",
        "# 테스트 데이터의 Loss, Accuracy\n",
        "eval = model.evaluate(X_test, y_test)\n",
        "print(f'Test loss: {eval[0]}, accuracy: {eval[1]}')\n",
        "#  - loss: 0.2129 - acc: 0.9160 - val_loss: 0.3984 - val_acc: 0.8472\n",
        "# Test loss: 0.4026741720564955, accuracy: 0.8569866610047803\n",
        "# => 정확가 낮고, 오버피팅도 있는 편.\n"
      ],
      "execution_count": 13,
      "outputs": [
        {
          "output_type": "stream",
          "text": [
            "4573/4573 [==============================] - 3s 638us/step\n",
            "Test loss: 0.4026741720564955, accuracy: 0.8569866610047803\n"
          ],
          "name": "stdout"
        }
      ]
    },
    {
      "cell_type": "markdown",
      "metadata": {
        "id": "-Qp9w6diUX7I",
        "colab_type": "text"
      },
      "source": [
        "**7. 학습, 손실 그래프 시각화**"
      ]
    },
    {
      "cell_type": "code",
      "metadata": {
        "id": "azCMjG56UYhv",
        "colab_type": "code",
        "outputId": "9162bf6a-5465-4c77-d68d-0f3759e3438c",
        "colab": {
          "base_uri": "https://localhost:8080/",
          "height": 279
        }
      },
      "source": [
        "# 학습 데이터와 테스트 데이터의 Loss 그래프\n",
        "train_loss = history.history['loss']  \n",
        "val_loss = history.history['val_loss']\n",
        "\n",
        "x = range(len(train_loss))\n",
        "plt.plot(x, train_loss, marker='.', color='red', label='Train loss')\n",
        "plt.plot(x, val_loss, marker='.', color='blue', label='Val loss')\n",
        "plt.xlabel('epoch')\n",
        "plt.ylabel('loss')\n",
        "plt.legend()\n",
        "plt.show()"
      ],
      "execution_count": 14,
      "outputs": [
        {
          "output_type": "display_data",
          "data": {
            "image/png": "[encoded data removed]",
            "text/plain": [
              "<Figure size 432x288 with 1 Axes>"
            ]
          },
          "metadata": {
            "tags": []
          }
        }
      ]
    },
    {
      "cell_type": "code",
      "metadata": {
        "id": "x68iMfPSUgiG",
        "colab_type": "code",
        "outputId": "9e1fb55a-17b9-451b-8654-139740d434a1",
        "colab": {
          "base_uri": "https://localhost:8080/",
          "height": 279
        }
      },
      "source": [
        "# 학습 데이터, 테스트 데이터의 정확도 그래프\n",
        "train_accuracy = history.history['acc']\n",
        "val_accuracy = history.history['val_acc']\n",
        "\n",
        "x = range(len(train_accuracy))\n",
        "plt.plot(x, train_accuracy, marker='.', color='red', label='Train loss')\n",
        "plt.plot(x, val_accuracy, marker='.', color='blue', label='Val loss')\n",
        "plt.xlabel('epoch')\n",
        "plt.ylabel('accuracy')\n",
        "plt.legend()\n",
        "plt.show()"
      ],
      "execution_count": 16,
      "outputs": [
        {
          "output_type": "display_data",
          "data": {
            "image/png": "[encoded data removed]",
            "text/plain": [
              "<Figure size 432x288 with 1 Axes>"
            ]
          },
          "metadata": {
            "tags": []
          }
        }
      ]
    },
    {
      "cell_type": "markdown",
      "metadata": {
        "id": "KmPsZL6vUjmW",
        "colab_type": "text"
      },
      "source": [
        "**8. confusion matrix**"
      ]
    },
    {
      "cell_type": "code",
      "metadata": {
        "id": "LlIhx-KWUjyW",
        "colab_type": "code",
        "outputId": "56758244-902d-44e2-d07e-80beab8bce95",
        "colab": {
          "base_uri": "https://localhost:8080/",
          "height": 485
        }
      },
      "source": [
        "# 저장한 학습모델 불러옴.\n",
        "# model = load_model('./model/cnn_final_3.model')\n",
        "\n",
        "categories = [\"df\", \"mel\", \"nv\", \"tsu\", \"vl\"] \n",
        "\n",
        "# confusion matrix & classification report\n",
        "print(y_test)\n",
        "y_true = np.argmax(y_test, axis=1)   # 행 중 가장 큰값의 idx\n",
        "# (one-hot-encoding 되어있으므로 1로 표시된 값을 행에서 가장 큰값으로 출력하여 array로 만듦)\n",
        "print(y_true)\n",
        "y_pred = np.argmax(model.predict(X_test), axis=1)\n",
        "print(y_pred)\n",
        "\n",
        "cm = confusion_matrix(y_true, y_pred)\n",
        "print(cm)\n",
        "# 세로가 실제클래스, 가로가 예측클래스\n",
        "\n",
        "report = classification_report(y_true, y_pred, target_names=categories)\n",
        "print(report)\n"
      ],
      "execution_count": 17,
      "outputs": [
        {
          "output_type": "stream",
          "text": [
            "[[0 0 1 0 0]\n",
            " [1 0 0 0 0]\n",
            " [0 0 0 0 1]\n",
            " ...\n",
            " [1 0 0 0 0]\n",
            " [0 0 1 0 0]\n",
            " [0 0 1 0 0]]\n",
            "[2 0 4 ... 0 2 2]\n",
            "[2 0 4 ... 0 2 2]\n",
            "[[ 738   27   35   29    3]\n",
            " [  33  697  144   54    2]\n",
            " [  92  143  652   20    6]\n",
            " [   5   18    8 1003   10]\n",
            " [   7    1    1   16  829]]\n",
            "              precision    recall  f1-score   support\n",
            "\n",
            "          df       0.84      0.89      0.86       832\n",
            "         mel       0.79      0.75      0.77       930\n",
            "          nv       0.78      0.71      0.74       913\n",
            "         tsu       0.89      0.96      0.93      1044\n",
            "          vl       0.98      0.97      0.97       854\n",
            "\n",
            "    accuracy                           0.86      4573\n",
            "   macro avg       0.86      0.86      0.86      4573\n",
            "weighted avg       0.85      0.86      0.86      4573\n",
            "\n"
          ],
          "name": "stdout"
        }
      ]
    }
  ]
}